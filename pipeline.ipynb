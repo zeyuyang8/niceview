{
 "cells": [
  {
   "cell_type": "code",
   "execution_count": 1,
   "metadata": {},
   "outputs": [],
   "source": [
    "\"\"\"Solution notebook.\"\"\"\n",
    "\n",
    "import toml\n",
    "import json\n",
    "from niceview.utils.dataset import ThorQuery"
   ]
  },
  {
   "cell_type": "code",
   "execution_count": 2,
   "metadata": {},
   "outputs": [],
   "source": [
    "config = toml.load('user/config.toml')\n",
    "data_path = config['path']['data']\n",
    "cache_path = config['path']['cache']"
   ]
  },
  {
   "cell_type": "code",
   "execution_count": 3,
   "metadata": {},
   "outputs": [],
   "source": [
    "with open('./db/db-info.json', 'r') as json_file:\n",
    "    # Use json.load() to load the JSON data\n",
    "    db_info = json.load(json_file)\n",
    "\n",
    "data_extension = db_info['data_extension']\n",
    "cache_extension = db_info['cache_extension']\n",
    "cell_label_encoder = db_info['cell_label_encoder']\n",
    "cell_label_cmap = db_info['cell_label_cmap']\n",
    "primary_key_list = db_info['primary_key_list']"
   ]
  },
  {
   "cell_type": "code",
   "execution_count": 4,
   "metadata": {},
   "outputs": [],
   "source": [
    "with open('./user/args.json') as f:\n",
    "    args = json.load(f)\n",
    "\n",
    "sample_id = args['sampleId']\n",
    "selected_cell_gene_name = args['selectedCellGeneName']\n",
    "selected_spot_gene_name = args['selectedSpotGeneName']"
   ]
  },
  {
   "cell_type": "code",
   "execution_count": 5,
   "metadata": {},
   "outputs": [],
   "source": [
    "thor = ThorQuery(\n",
    "    data_path,\n",
    "    cache_path,\n",
    "    data_extension,\n",
    "    cache_extension,\n",
    "    cell_label_encoder,\n",
    "    cell_label_cmap,\n",
    "    primary_key_list,\n",
    ")"
   ]
  },
  {
   "cell_type": "code",
   "execution_count": 6,
   "metadata": {},
   "outputs": [],
   "source": [
    "thor.cell_gis(\n",
    "    sample_id,\n",
    "    selected_cell_gene_name,\n",
    "    True,\n",
    ")"
   ]
  },
  {
   "cell_type": "code",
   "execution_count": 7,
   "metadata": {},
   "outputs": [],
   "source": [
    "thor.spot_gis(\n",
    "    sample_id,\n",
    "    selected_spot_gene_name,\n",
    ")"
   ]
  },
  {
   "cell_type": "code",
   "execution_count": 8,
   "metadata": {},
   "outputs": [],
   "source": [
    "thor.wsi_gis(sample_id)"
   ]
  },
  {
   "cell_type": "code",
   "execution_count": null,
   "metadata": {},
   "outputs": [],
   "source": []
  }
 ],
 "metadata": {
  "kernelspec": {
   "display_name": "niceview",
   "language": "python",
   "name": "python3"
  },
  "language_info": {
   "codemirror_mode": {
    "name": "ipython",
    "version": 3
   },
   "file_extension": ".py",
   "mimetype": "text/x-python",
   "name": "python",
   "nbconvert_exporter": "python",
   "pygments_lexer": "ipython3",
   "version": "3.9.0"
  },
  "orig_nbformat": 4
 },
 "nbformat": 4,
 "nbformat_minor": 2
}
