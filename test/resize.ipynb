{
 "cells": [
  {
   "cell_type": "code",
   "execution_count": 1,
   "metadata": {},
   "outputs": [],
   "source": [
    "import cv2\n",
    "from scipy.sparse import load_npz\n",
    "import numpy as np\n",
    "from scipy import ndimage\n",
    "from niceview.utils.tools import mask_to_image"
   ]
  },
  {
   "cell_type": "code",
   "execution_count": 2,
   "metadata": {},
   "outputs": [],
   "source": [
    "# img = cv2.imread('c:/Users/zeyuy/Dropbox/academy/github/niceview/db/data/gt-iz-p9-rep2-wsi-img.tiff')\n",
    "img = cv2.imread('test.tiff')"
   ]
  },
  {
   "cell_type": "code",
   "execution_count": 3,
   "metadata": {},
   "outputs": [],
   "source": [
    "height, width, channel = img.shape"
   ]
  },
  {
   "cell_type": "code",
   "execution_count": 4,
   "metadata": {},
   "outputs": [],
   "source": [
    "max_dim = max(height, width)\n",
    "\n",
    "# Calculate the resize factor\n",
    "resize_factor = 10000 / max_dim"
   ]
  },
  {
   "cell_type": "code",
   "execution_count": 5,
   "metadata": {},
   "outputs": [],
   "source": [
    "new_shape = (int(height * resize_factor), int(width * resize_factor))"
   ]
  },
  {
   "cell_type": "code",
   "execution_count": 6,
   "metadata": {},
   "outputs": [],
   "source": [
    "# Resize the image\n",
    "resized_img = cv2.resize(img, (int(width * resize_factor), int(height * resize_factor)))"
   ]
  },
  {
   "cell_type": "code",
   "execution_count": 7,
   "metadata": {},
   "outputs": [
    {
     "data": {
      "text/plain": [
       "(9191, 10000, 3)"
      ]
     },
     "execution_count": 7,
     "metadata": {},
     "output_type": "execute_result"
    }
   ],
   "source": [
    "resized_img.shape"
   ]
  },
  {
   "cell_type": "code",
   "execution_count": 8,
   "metadata": {},
   "outputs": [],
   "source": [
    "mask = np.array(load_npz('test.npz').todense())"
   ]
  },
  {
   "cell_type": "code",
   "execution_count": 10,
   "metadata": {},
   "outputs": [],
   "source": [
    "# Define the original and target shapes\n",
    "original_shape = mask.shape\n",
    "target_shape = new_shape  # New shape\n",
    "\n",
    "# Resize the mask array\n",
    "resized_mask = ndimage.zoom(mask, (target_shape[0] / original_shape[0], target_shape[1] / original_shape[1]), order=0)"
   ]
  },
  {
   "cell_type": "code",
   "execution_count": 11,
   "metadata": {},
   "outputs": [
    {
     "data": {
      "text/plain": [
       "True"
      ]
     },
     "execution_count": 11,
     "metadata": {},
     "output_type": "execute_result"
    }
   ],
   "source": [
    "cv2.imwrite('resized_mask.png', \n",
    "    mask_to_image(resized_mask, cv2.COLORMAP_JET)\n",
    ")"
   ]
  },
  {
   "cell_type": "code",
   "execution_count": 12,
   "metadata": {},
   "outputs": [
    {
     "data": {
      "text/plain": [
       "True"
      ]
     },
     "execution_count": 12,
     "metadata": {},
     "output_type": "execute_result"
    }
   ],
   "source": [
    "cv2.imwrite('mask.png', \n",
    "    mask_to_image(mask, cv2.COLORMAP_JET)\n",
    ")"
   ]
  },
  {
   "cell_type": "code",
   "execution_count": 13,
   "metadata": {},
   "outputs": [],
   "source": [
    "import scanpy as sc"
   ]
  },
  {
   "cell_type": "code",
   "execution_count": 14,
   "metadata": {},
   "outputs": [],
   "source": [
    "adata = sc.read_h5ad('test.h5ad')"
   ]
  },
  {
   "cell_type": "code",
   "execution_count": 22,
   "metadata": {},
   "outputs": [
    {
     "data": {
      "text/plain": [
       "0.3642721841760163"
      ]
     },
     "execution_count": 22,
     "metadata": {},
     "output_type": "execute_result"
    }
   ],
   "source": [
    "resize_factor"
   ]
  },
  {
   "cell_type": "code",
   "execution_count": 18,
   "metadata": {},
   "outputs": [
    {
     "data": {
      "text/plain": [
       "CGGTAGAGGTGCAGGT-1-14     18422.893186\n",
       "TAAGGCTGAATCCCTC-1-14     19218.074830\n",
       "CCTTCTTGATCCAGTG-1-8      15828.408072\n",
       "TAGCCATTTCAAAGTC-1-36     18001.905109\n",
       "CCTGCGTTCTACGCTT-1-123     7054.550562\n",
       "                              ...     \n",
       "CGTGCAGACTGGGACA-1-2      15786.043937\n",
       "TATGGCCCGGCCTCGC-1-4       9399.047619\n",
       "CTAGTTGGGCCCGGTA-1-7      14983.945402\n",
       "CGCTGGTGACTACCCT-1-5      19361.903654\n",
       "GATGTCGGTCAACTGC-1-103    15691.282609\n",
       "Name: x, Length: 76320, dtype: float64"
      ]
     },
     "execution_count": 18,
     "metadata": {},
     "output_type": "execute_result"
    }
   ],
   "source": [
    "adata.obs['x']"
   ]
  },
  {
   "cell_type": "code",
   "execution_count": 21,
   "metadata": {},
   "outputs": [
    {
     "data": {
      "text/plain": [
       "CGGTAGAGGTGCAGGT-1-14      9246.541436\n",
       "TAAGGCTGAATCCCTC-1-14     15040.914966\n",
       "CCTTCTTGATCCAGTG-1-8       8475.605381\n",
       "TAGCCATTTCAAAGTC-1-36     14553.514599\n",
       "CCTGCGTTCTACGCTT-1-123    11740.146067\n",
       "                              ...     \n",
       "CGTGCAGACTGGGACA-1-2      13732.790861\n",
       "TATGGCCCGGCCTCGC-1-4      11264.911565\n",
       "CTAGTTGGGCCCGGTA-1-7      10152.586207\n",
       "CGCTGGTGACTACCCT-1-5      15738.006645\n",
       "GATGTCGGTCAACTGC-1-103     5866.804348\n",
       "Name: y, Length: 76320, dtype: float64"
      ]
     },
     "execution_count": 21,
     "metadata": {},
     "output_type": "execute_result"
    }
   ],
   "source": [
    "adata.obs['y']"
   ]
  },
  {
   "cell_type": "code",
   "execution_count": null,
   "metadata": {},
   "outputs": [],
   "source": []
  }
 ],
 "metadata": {
  "kernelspec": {
   "display_name": "niceview",
   "language": "python",
   "name": "python3"
  },
  "language_info": {
   "codemirror_mode": {
    "name": "ipython",
    "version": 3
   },
   "file_extension": ".py",
   "mimetype": "text/x-python",
   "name": "python",
   "nbconvert_exporter": "python",
   "pygments_lexer": "ipython3",
   "version": "3.9.0"
  },
  "orig_nbformat": 4
 },
 "nbformat": 4,
 "nbformat_minor": 2
}
