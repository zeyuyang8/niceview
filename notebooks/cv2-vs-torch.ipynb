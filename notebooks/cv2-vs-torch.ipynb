{
 "cells": [
  {
   "cell_type": "code",
   "execution_count": 1,
   "metadata": {},
   "outputs": [],
   "source": [
    "import time\n",
    "import cv2\n",
    "import numpy as np\n",
    "import torchvision.transforms.functional as TF"
   ]
  },
  {
   "cell_type": "code",
   "execution_count": 2,
   "metadata": {},
   "outputs": [],
   "source": [
    "def blend(img_path, mask_path, mask_opacity):\n",
    "    \"\"\"Blend mask and image.\n",
    "    \n",
    "    Args:\n",
    "        img_path (str): path to the image.\n",
    "        mask_path (str): path to the mask.\n",
    "        mask_opacity (float): opacity of the mask.\n",
    "    \n",
    "    Returns:\n",
    "        np.ndarray: blended image.\n",
    "    \"\"\"\n",
    "    mask_img = cv2.imread(mask_path)\n",
    "    bkgd_img = cv2.imread(img_path)\n",
    "    \n",
    "    # blend part of background\n",
    "    mask = cv2.cvtColor(mask_img, cv2.COLOR_BGR2GRAY)\n",
    "    bkgd_blend = cv2.bitwise_and(bkgd_img, bkgd_img, mask=mask)\n",
    "    \n",
    "    # non-blend part of background\n",
    "    inv_mask = (mask == 0).astype(np.uint8)\n",
    "    bkgd_non_blend = cv2.bitwise_and(bkgd_img, bkgd_img, mask=inv_mask)\n",
    "    \n",
    "    mask_ovelay = cv2.addWeighted(mask_img, mask_opacity, bkgd_blend, 1.0 - mask_opacity, 0)\n",
    "    whole_img = cv2.addWeighted(mask_ovelay, 1.0, bkgd_non_blend, 1.0, 0)\n",
    "    return whole_img"
   ]
  },
  {
   "cell_type": "code",
   "execution_count": 3,
   "metadata": {},
   "outputs": [],
   "source": [
    "def torch_blend(img_path, mask_path, mask_opacity):\n",
    "    \"\"\"Blend mask and image using PyTorch.\n",
    "    \n",
    "    Args:\n",
    "        img_path (str): path to the image.\n",
    "        mask_path (str): path to the mask.\n",
    "        mask_opacity (float): opacity of the mask.\n",
    "    \n",
    "    Returns:\n",
    "        np.ndarray: blended image.\n",
    "    \"\"\"\n",
    "    # load image and mask\n",
    "    img = cv2.imread(img_path)\n",
    "    mask = cv2.imread(mask_path, cv2.IMREAD_GRAYSCALE)\n",
    "    \n",
    "    # convert to tensor and move to GPU\n",
    "    img_tensor = TF.to_tensor(img).unsqueeze(0).cuda()\n",
    "    mask_tensor = TF.to_tensor(mask).unsqueeze(0).cuda()\n",
    "    \n",
    "    # blend image and mask\n",
    "    blended_tensor = img_tensor * (1 - mask_opacity) + mask_tensor * mask_opacity\n",
    "    \n",
    "    # convert back to numpy array\n",
    "    blended_img = blended_tensor.squeeze().cpu().numpy()\n",
    "    blended_img = np.transpose(blended_img, (1, 2, 0))\n",
    "    blended_img = (blended_img * 255).astype(np.uint8)\n",
    "    \n",
    "    return blended_img\n"
   ]
  },
  {
   "cell_type": "code",
   "execution_count": 4,
   "metadata": {},
   "outputs": [
    {
     "name": "stdout",
     "output_type": "stream",
     "text": [
      "time cost:  2.378056764602661 s\n",
      "time cost:  6.381999254226685 s\n"
     ]
    }
   ],
   "source": [
    "def _test():\n",
    "    img_path = '/home/tom/github/niceview/db/cache/gt-iz-p9-rep2-wsi-img.tiff'\n",
    "    mask_path = '/home/tom/github/niceview/db/cache/gt-iz-p9-rep2-mask-cell-gene-img.png'\n",
    "    mask_opacity = 0.5\n",
    "    \n",
    "    time_start = time.time()\n",
    "    blend(img_path, mask_path, mask_opacity)\n",
    "    time_end = time.time()\n",
    "    print('time cost: ', time_end - time_start, 's')\n",
    "    \n",
    "    time_start = time.time()\n",
    "    torch_blend(img_path, mask_path, mask_opacity)\n",
    "    time_end = time.time()\n",
    "    print('time cost: ', time_end - time_start, 's')\n",
    "\n",
    "_test()"
   ]
  },
  {
   "cell_type": "code",
   "execution_count": null,
   "metadata": {},
   "outputs": [],
   "source": []
  }
 ],
 "metadata": {
  "kernelspec": {
   "display_name": "niceview",
   "language": "python",
   "name": "python3"
  },
  "language_info": {
   "codemirror_mode": {
    "name": "ipython",
    "version": 3
   },
   "file_extension": ".py",
   "mimetype": "text/x-python",
   "name": "python",
   "nbconvert_exporter": "python",
   "pygments_lexer": "ipython3",
   "version": "3.9.0"
  }
 },
 "nbformat": 4,
 "nbformat_minor": 2
}
