{
 "cells": [
  {
   "cell_type": "code",
   "execution_count": 1,
   "metadata": {},
   "outputs": [],
   "source": [
    "import os\n",
    "import numpy as np\n",
    "import pandas as pd\n",
    "from dash import Dash, html\n",
    "import dash_leaflet as dl\n",
    "from localtileserver import TileClient, get_leaflet_tile_layer\n",
    "from scipy.sparse import load_npz\n",
    "from niceview.utils.tools import normalize_array, select_col_from_name, txt_to_list\n",
    "from niceview.utils.raster import geo_raster_to_meshgrid, index_to_meshgrid_coord\n",
    "\n",
    "# constants\n",
    "DATA_PATH = '/home/tom/github/niceview/examples/data/'\n",
    "PLOTS_PATH = '/home/tom/github/niceview/examples/plots/'\n",
    "CMIN = 0\n",
    "CMAX = 255\n",
    "\n",
    "# args.data\n",
    "sample_id = 'gt-iz-p9-rep2'\n",
    "cells_selected_gene_name = 'ENSG00000065534'\n",
    "spots_selected_gene_name = 'ENSG00000037280'\n",
    "\n",
    "# args.plot\n",
    "window_size = (600, 600)\n",
    "\n",
    "# file and cache\n",
    "files = {\n",
    "    'cells-gene-names': '-'.join([sample_id, 'cells-gene-names.txt']),\n",
    "    'cells-gene': '-'.join([sample_id, 'cells-gene.npz']),\n",
    "    'cells-info': '-'.join([sample_id, 'cells-info.csv']),\n",
    "    'img': '-'.join([sample_id, 'img.tiff']),\n",
    "    'mask-filtered-relabeled': '-'.join([sample_id, 'mask-filtered-relabeled.npz']),\n",
    "    'mask': '-'.join([sample_id, 'mask.npz']),\n",
    "    'spots-gene-names': '-'.join([sample_id, 'spots-gene-names.txt']),\n",
    "    'spots-gene': '-'.join([sample_id, 'spots-gene.npz']),\n",
    "    'spots-info': '-'.join([sample_id, 'spots-info.csv']),\n",
    "}\n",
    "cache = {\n",
    "    'blend-cells-gene': '-'.join([sample_id, 'blend-cells-gene.png']),\n",
    "    'blend-cells-type': '-'.join([sample_id, 'blend-cells-type.png']),\n",
    "    'blend-spots-gene': '-'.join([sample_id, 'blend-spots-gene.png']),\n",
    "    'mask-cells-type': '-'.join([sample_id, 'mask-cells-type.png']),\n",
    "    'mask-cells-gene': '-'.join([sample_id, 'mask-cells-gene.png']),\n",
    "    'spots-gene': '-'.join([sample_id, 'spots-gene.png']),\n",
    "    'gis-blend-cells': '-'.join([sample_id, 'gis-blend-cells.tiff']),\n",
    "    'gis-blend-spots': '-'.join([sample_id, 'gis-blend-spots.tiff']),\n",
    "}\n",
    "\n",
    "# cells client\n",
    "cells_client = TileClient(\n",
    "    os.path.join(PLOTS_PATH, cache['gis-blend-cells']),\n",
    "    cors_all=True,\n",
    ")\n",
    "cells_tile_layer = get_leaflet_tile_layer(cells_client)"
   ]
  },
  {
   "cell_type": "code",
   "execution_count": 3,
   "metadata": {},
   "outputs": [
    {
     "data": {
      "text/plain": [
       "22"
      ]
     },
     "execution_count": 3,
     "metadata": {},
     "output_type": "execute_result"
    }
   ],
   "source": [
    "cells_client."
   ]
  },
  {
   "cell_type": "code",
   "execution_count": null,
   "metadata": {},
   "outputs": [],
   "source": []
  }
 ],
 "metadata": {
  "kernelspec": {
   "display_name": "niceview",
   "language": "python",
   "name": "python3"
  },
  "language_info": {
   "codemirror_mode": {
    "name": "ipython",
    "version": 3
   },
   "file_extension": ".py",
   "mimetype": "text/x-python",
   "name": "python",
   "nbconvert_exporter": "python",
   "pygments_lexer": "ipython3",
   "version": "3.9.0"
  },
  "orig_nbformat": 4
 },
 "nbformat": 4,
 "nbformat_minor": 2
}
