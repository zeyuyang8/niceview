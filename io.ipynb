{
 "cells": [
  {
   "cell_type": "code",
   "execution_count": 1,
   "metadata": {},
   "outputs": [],
   "source": [
    "import pandas as pd\n",
    "import toml\n",
    "import os"
   ]
  },
  {
   "cell_type": "code",
   "execution_count": 2,
   "metadata": {},
   "outputs": [],
   "source": [
    "config = toml.load('config.toml')\n",
    "sample_id = ['gt-iz-p9-rep2', 'gt-iz-p7-rep2']\n",
    "data_extension = {\n",
    "    'cell': 'h5ad',\n",
    "    'cell-gene': 'npz',\n",
    "    'cell-gene-name': 'txt',\n",
    "    'cell-info': 'csv',\n",
    "    'cell-mask': 'npz',\n",
    "    'wsi-img': 'tiff',\n",
    "    'spot': 'h5ad',\n",
    "    'spot-gene': 'npz',\n",
    "    'spot-gene-name': 'txt',\n",
    "    'spot-info': 'csv',\n",
    "}\n",
    "cache_extension = {\n",
    "    'blend-cell-gene-img': 'png',\n",
    "    'blend-cell-type-img': 'png',\n",
    "    'blend-spot-gene-img': 'png',\n",
    "    'mask-cell-gene-img': 'png',\n",
    "    'mask-cell-type-img': 'png',\n",
    "    'circle-spot-gene-img': 'png',\n",
    "    'gis-blend-cell-gene-img': 'tiff',\n",
    "    'gis-blend-cell-type-img': 'tiff',\n",
    "    'gis-blend-spot-gene-img': 'tiff',\n",
    "}"
   ]
  },
  {
   "cell_type": "code",
   "execution_count": 3,
   "metadata": {},
   "outputs": [],
   "source": [
    "class AristotleDataset:\n",
    "    \n",
    "    def __init__(self, data_dir, data_extension, cache_dir, cache_extension, primary_key_list):\n",
    "        self.data_dir = data_dir\n",
    "        self.data_extension = data_extension\n",
    "        self.cache_dir = cache_dir\n",
    "        self.cache_extension = cache_extension\n",
    "        self.primary_key_list = primary_key_list\n",
    "        \n",
    "    def _unparse_filename(self, primary_key, field_name, extension):\n",
    "        filename = '-'.join([primary_key, field_name])\n",
    "        filename = '.'.join([filename, extension])\n",
    "        return filename\n",
    "    \n",
    "    def get_data_field(self, primary_key, data_field):\n",
    "        if primary_key not in self.primary_key_list:\n",
    "            raise ValueError('Bad input primary key')\n",
    "        \n",
    "        filename = self._unparse_filename(primary_key, data_field, self.data_extension[data_field])\n",
    "        filepath = os.path.join(self.data_dir, filename)\n",
    "        return filepath\n",
    "    \n",
    "    def get_cache_field(self, primary_key, cache_field):\n",
    "        if primary_key not in self.primary_key_list:\n",
    "            raise ValueError('Bad input primary key')\n",
    "        \n",
    "        filename = self._unparse_filename(primary_key, cache_field, self.cache_extension[cache_field])\n",
    "        filepath = os.path.join(self.cache_dir, filename)\n",
    "        return filepath"
   ]
  },
  {
   "cell_type": "code",
   "execution_count": 4,
   "metadata": {},
   "outputs": [
    {
     "name": "stdout",
     "output_type": "stream",
     "text": [
      "/home/tom/github/niceview/data/gt-iz-p9-rep2-cell.h5ad\n"
     ]
    }
   ],
   "source": [
    "dataset = AristotleDataset(\n",
    "    config['path']['data'], data_extension, \n",
    "    config['path']['cache'], cache_extension, \n",
    "    sample_id\n",
    ")\n",
    "print(dataset.get_data_field('gt-iz-p9-rep2', 'cell'))"
   ]
  },
  {
   "cell_type": "code",
   "execution_count": null,
   "metadata": {},
   "outputs": [],
   "source": []
  }
 ],
 "metadata": {
  "kernelspec": {
   "display_name": "niceview",
   "language": "python",
   "name": "python3"
  },
  "language_info": {
   "codemirror_mode": {
    "name": "ipython",
    "version": 3
   },
   "file_extension": ".py",
   "mimetype": "text/x-python",
   "name": "python",
   "nbconvert_exporter": "python",
   "pygments_lexer": "ipython3",
   "version": "3.9.0"
  },
  "orig_nbformat": 4
 },
 "nbformat": 4,
 "nbformat_minor": 2
}
