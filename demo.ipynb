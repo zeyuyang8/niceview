{
 "cells": [
  {
   "cell_type": "code",
   "execution_count": 63,
   "metadata": {},
   "outputs": [],
   "source": [
    "import rasterio\n",
    "import geojson"
   ]
  },
  {
   "cell_type": "code",
   "execution_count": 64,
   "metadata": {},
   "outputs": [
    {
     "name": "stdout",
     "output_type": "stream",
     "text": [
      "[[4.512075, -0.001403], [4.513577, -0.001017]]\n",
      "[[[4.513405, -0.001669], [4.512118, -0.002699], [4.513512, -0.003878], [4.514456, -0.002784], [4.514435, -0.001819], [4.513405, -0.001669]]]\n",
      "[[[4.515035, -0.002012], [4.515035, -0.001369], [4.516022, -0.001369], [4.516022, -0.002012], [4.515035, -0.002012]]]\n",
      "[4.516837, -0.00227]\n",
      "[4.516622, -0.003471]\n",
      "[4.517009, -0.004243]\n"
     ]
    }
   ],
   "source": [
    "raster = rasterio.open('./db/cache/gt-iz-p9-rep2-gis-wsi-img.tiff')\n",
    "raster.index\n",
    "geojson_data = geojson.loads(open('roi.json').read())\n",
    "for item in geojson_data['features']:\n",
    "    print(item['geometry']['coordinates'])"
   ]
  },
  {
   "cell_type": "code",
   "execution_count": null,
   "metadata": {},
   "outputs": [],
   "source": []
  }
 ],
 "metadata": {
  "kernelspec": {
   "display_name": "niceview",
   "language": "python",
   "name": "python3"
  },
  "language_info": {
   "codemirror_mode": {
    "name": "ipython",
    "version": 3
   },
   "file_extension": ".py",
   "mimetype": "text/x-python",
   "name": "python",
   "nbconvert_exporter": "python",
   "pygments_lexer": "ipython3",
   "version": "3.9.0"
  },
  "orig_nbformat": 4
 },
 "nbformat": 4,
 "nbformat_minor": 2
}
