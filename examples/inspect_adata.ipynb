{
 "cells": [
  {
   "cell_type": "code",
   "execution_count": 2,
   "metadata": {},
   "outputs": [],
   "source": [
    "import scanpy as sc"
   ]
  },
  {
   "cell_type": "markdown",
   "metadata": {},
   "source": [
    "## spot-wise adata"
   ]
  },
  {
   "cell_type": "code",
   "execution_count": 17,
   "metadata": {},
   "outputs": [],
   "source": [
    "file_path = \"/Users/pengzhizhang/ST_Histo/data/HumanHF/GT_IZ_P9_rep2/GT_IZ_P9_rep2_adata_spots_filtered_ref.h5ad\""
   ]
  },
  {
   "cell_type": "code",
   "execution_count": 18,
   "metadata": {},
   "outputs": [],
   "source": [
    "ad = sc.read_h5ad(file_path)"
   ]
  },
  {
   "cell_type": "code",
   "execution_count": 19,
   "metadata": {},
   "outputs": [
    {
     "data": {
      "text/plain": [
       "AnnData object with n_obs × n_vars = 4113 × 17667\n",
       "    obs: 'n_counts', 'n_genes', 'percent.mt', 'Adipocyte', 'Cardiomyocyte', 'Endothelial', 'Fibroblast', 'Lymphoid', 'Mast', 'Myeloid', 'Neuronal', 'Pericyte', 'Cycling.cells', 'vSMCs', 'cell_type_original', 'assay_ontology_term_id', 'cell_type_ontology_term_id', 'development_stage_ontology_term_id', 'disease_ontology_term_id', 'self_reported_ethnicity_ontology_term_id', 'is_primary_data', 'organism_ontology_term_id', 'sex_ontology_term_id', 'tissue_ontology_term_id', 'donor_id', 'suspension_type', 'cell_type', 'assay', 'disease', 'organism', 'sex', 'tissue', 'self_reported_ethnicity', 'development_stage', 'in_tissue', 'array_row', 'array_col'\n",
       "    var: 'feature_is_filtered', 'feature_name', 'feature_reference', 'feature_biotype'\n",
       "    uns: 'X_approximate_distribution', 'default_embedding', 'schema_version', 'spatial', 'title'\n",
       "    obsm: 'X_pca', 'X_spatial', 'X_umap', 'spatial'"
      ]
     },
     "execution_count": 19,
     "metadata": {},
     "output_type": "execute_result"
    }
   ],
   "source": [
    "ad"
   ]
  },
  {
   "cell_type": "code",
   "execution_count": 20,
   "metadata": {},
   "outputs": [
    {
     "data": {
      "text/html": [
       "<div>\n",
       "<style scoped>\n",
       "    .dataframe tbody tr th:only-of-type {\n",
       "        vertical-align: middle;\n",
       "    }\n",
       "\n",
       "    .dataframe tbody tr th {\n",
       "        vertical-align: top;\n",
       "    }\n",
       "\n",
       "    .dataframe thead th {\n",
       "        text-align: right;\n",
       "    }\n",
       "</style>\n",
       "<table border=\"1\" class=\"dataframe\">\n",
       "  <thead>\n",
       "    <tr style=\"text-align: right;\">\n",
       "      <th></th>\n",
       "      <th>n_counts</th>\n",
       "      <th>n_genes</th>\n",
       "      <th>percent.mt</th>\n",
       "      <th>Adipocyte</th>\n",
       "      <th>Cardiomyocyte</th>\n",
       "      <th>Endothelial</th>\n",
       "      <th>Fibroblast</th>\n",
       "      <th>Lymphoid</th>\n",
       "      <th>Mast</th>\n",
       "      <th>Myeloid</th>\n",
       "      <th>...</th>\n",
       "      <th>assay</th>\n",
       "      <th>disease</th>\n",
       "      <th>organism</th>\n",
       "      <th>sex</th>\n",
       "      <th>tissue</th>\n",
       "      <th>self_reported_ethnicity</th>\n",
       "      <th>development_stage</th>\n",
       "      <th>in_tissue</th>\n",
       "      <th>array_row</th>\n",
       "      <th>array_col</th>\n",
       "    </tr>\n",
       "  </thead>\n",
       "  <tbody>\n",
       "    <tr>\n",
       "      <th>AAACAAGTATCTCCCA-1</th>\n",
       "      <td>7194.0</td>\n",
       "      <td>3125</td>\n",
       "      <td>8.563037</td>\n",
       "      <td>0.000021</td>\n",
       "      <td>1.951450e-01</td>\n",
       "      <td>0.037791</td>\n",
       "      <td>0.563484</td>\n",
       "      <td>0.008058</td>\n",
       "      <td>0.000425</td>\n",
       "      <td>0.083479</td>\n",
       "      <td>...</td>\n",
       "      <td>Visium Spatial Gene Expression</td>\n",
       "      <td>myocardial infarction</td>\n",
       "      <td>Homo sapiens</td>\n",
       "      <td>female</td>\n",
       "      <td>heart left ventricle</td>\n",
       "      <td>European</td>\n",
       "      <td>52-year-old human stage</td>\n",
       "      <td>1</td>\n",
       "      <td>50</td>\n",
       "      <td>102</td>\n",
       "    </tr>\n",
       "    <tr>\n",
       "      <th>AAACAATCTACTAGCA-1</th>\n",
       "      <td>10674.0</td>\n",
       "      <td>3656</td>\n",
       "      <td>3.327521</td>\n",
       "      <td>0.000012</td>\n",
       "      <td>2.041634e-06</td>\n",
       "      <td>0.098946</td>\n",
       "      <td>0.765965</td>\n",
       "      <td>0.007576</td>\n",
       "      <td>0.002032</td>\n",
       "      <td>0.078732</td>\n",
       "      <td>...</td>\n",
       "      <td>Visium Spatial Gene Expression</td>\n",
       "      <td>myocardial infarction</td>\n",
       "      <td>Homo sapiens</td>\n",
       "      <td>female</td>\n",
       "      <td>heart left ventricle</td>\n",
       "      <td>European</td>\n",
       "      <td>52-year-old human stage</td>\n",
       "      <td>1</td>\n",
       "      <td>3</td>\n",
       "      <td>43</td>\n",
       "    </tr>\n",
       "    <tr>\n",
       "      <th>AAACACCAATAACTGC-1</th>\n",
       "      <td>7339.0</td>\n",
       "      <td>3013</td>\n",
       "      <td>2.913893</td>\n",
       "      <td>0.000018</td>\n",
       "      <td>8.812308e-08</td>\n",
       "      <td>0.069911</td>\n",
       "      <td>0.502140</td>\n",
       "      <td>0.039207</td>\n",
       "      <td>0.075268</td>\n",
       "      <td>0.273766</td>\n",
       "      <td>...</td>\n",
       "      <td>Visium Spatial Gene Expression</td>\n",
       "      <td>myocardial infarction</td>\n",
       "      <td>Homo sapiens</td>\n",
       "      <td>female</td>\n",
       "      <td>heart left ventricle</td>\n",
       "      <td>European</td>\n",
       "      <td>52-year-old human stage</td>\n",
       "      <td>1</td>\n",
       "      <td>59</td>\n",
       "      <td>19</td>\n",
       "    </tr>\n",
       "    <tr>\n",
       "      <th>AAACAGAGCGACTCCT-1</th>\n",
       "      <td>14238.0</td>\n",
       "      <td>4776</td>\n",
       "      <td>14.919419</td>\n",
       "      <td>0.003114</td>\n",
       "      <td>2.159587e-01</td>\n",
       "      <td>0.213653</td>\n",
       "      <td>0.230822</td>\n",
       "      <td>0.016849</td>\n",
       "      <td>0.000168</td>\n",
       "      <td>0.099339</td>\n",
       "      <td>...</td>\n",
       "      <td>Visium Spatial Gene Expression</td>\n",
       "      <td>myocardial infarction</td>\n",
       "      <td>Homo sapiens</td>\n",
       "      <td>female</td>\n",
       "      <td>heart left ventricle</td>\n",
       "      <td>European</td>\n",
       "      <td>52-year-old human stage</td>\n",
       "      <td>1</td>\n",
       "      <td>14</td>\n",
       "      <td>94</td>\n",
       "    </tr>\n",
       "    <tr>\n",
       "      <th>AAACAGCTTTCAGAAG-1</th>\n",
       "      <td>6920.0</td>\n",
       "      <td>2734</td>\n",
       "      <td>2.560096</td>\n",
       "      <td>0.000298</td>\n",
       "      <td>1.267548e-05</td>\n",
       "      <td>0.076673</td>\n",
       "      <td>0.816055</td>\n",
       "      <td>0.011416</td>\n",
       "      <td>0.000182</td>\n",
       "      <td>0.075597</td>\n",
       "      <td>...</td>\n",
       "      <td>Visium Spatial Gene Expression</td>\n",
       "      <td>myocardial infarction</td>\n",
       "      <td>Homo sapiens</td>\n",
       "      <td>female</td>\n",
       "      <td>heart left ventricle</td>\n",
       "      <td>European</td>\n",
       "      <td>52-year-old human stage</td>\n",
       "      <td>1</td>\n",
       "      <td>43</td>\n",
       "      <td>9</td>\n",
       "    </tr>\n",
       "  </tbody>\n",
       "</table>\n",
       "<p>5 rows × 37 columns</p>\n",
       "</div>"
      ],
      "text/plain": [
       "                    n_counts  n_genes  percent.mt  Adipocyte  Cardiomyocyte  \\\n",
       "AAACAAGTATCTCCCA-1    7194.0     3125    8.563037   0.000021   1.951450e-01   \n",
       "AAACAATCTACTAGCA-1   10674.0     3656    3.327521   0.000012   2.041634e-06   \n",
       "AAACACCAATAACTGC-1    7339.0     3013    2.913893   0.000018   8.812308e-08   \n",
       "AAACAGAGCGACTCCT-1   14238.0     4776   14.919419   0.003114   2.159587e-01   \n",
       "AAACAGCTTTCAGAAG-1    6920.0     2734    2.560096   0.000298   1.267548e-05   \n",
       "\n",
       "                    Endothelial  Fibroblast  Lymphoid      Mast   Myeloid  \\\n",
       "AAACAAGTATCTCCCA-1     0.037791    0.563484  0.008058  0.000425  0.083479   \n",
       "AAACAATCTACTAGCA-1     0.098946    0.765965  0.007576  0.002032  0.078732   \n",
       "AAACACCAATAACTGC-1     0.069911    0.502140  0.039207  0.075268  0.273766   \n",
       "AAACAGAGCGACTCCT-1     0.213653    0.230822  0.016849  0.000168  0.099339   \n",
       "AAACAGCTTTCAGAAG-1     0.076673    0.816055  0.011416  0.000182  0.075597   \n",
       "\n",
       "                    ...                           assay  \\\n",
       "AAACAAGTATCTCCCA-1  ...  Visium Spatial Gene Expression   \n",
       "AAACAATCTACTAGCA-1  ...  Visium Spatial Gene Expression   \n",
       "AAACACCAATAACTGC-1  ...  Visium Spatial Gene Expression   \n",
       "AAACAGAGCGACTCCT-1  ...  Visium Spatial Gene Expression   \n",
       "AAACAGCTTTCAGAAG-1  ...  Visium Spatial Gene Expression   \n",
       "\n",
       "                                  disease      organism     sex  \\\n",
       "AAACAAGTATCTCCCA-1  myocardial infarction  Homo sapiens  female   \n",
       "AAACAATCTACTAGCA-1  myocardial infarction  Homo sapiens  female   \n",
       "AAACACCAATAACTGC-1  myocardial infarction  Homo sapiens  female   \n",
       "AAACAGAGCGACTCCT-1  myocardial infarction  Homo sapiens  female   \n",
       "AAACAGCTTTCAGAAG-1  myocardial infarction  Homo sapiens  female   \n",
       "\n",
       "                                  tissue self_reported_ethnicity  \\\n",
       "AAACAAGTATCTCCCA-1  heart left ventricle                European   \n",
       "AAACAATCTACTAGCA-1  heart left ventricle                European   \n",
       "AAACACCAATAACTGC-1  heart left ventricle                European   \n",
       "AAACAGAGCGACTCCT-1  heart left ventricle                European   \n",
       "AAACAGCTTTCAGAAG-1  heart left ventricle                European   \n",
       "\n",
       "                          development_stage in_tissue array_row array_col  \n",
       "AAACAAGTATCTCCCA-1  52-year-old human stage         1        50       102  \n",
       "AAACAATCTACTAGCA-1  52-year-old human stage         1         3        43  \n",
       "AAACACCAATAACTGC-1  52-year-old human stage         1        59        19  \n",
       "AAACAGAGCGACTCCT-1  52-year-old human stage         1        14        94  \n",
       "AAACAGCTTTCAGAAG-1  52-year-old human stage         1        43         9  \n",
       "\n",
       "[5 rows x 37 columns]"
      ]
     },
     "execution_count": 20,
     "metadata": {},
     "output_type": "execute_result"
    }
   ],
   "source": [
    "ad.obs.head()"
   ]
  },
  {
   "cell_type": "code",
   "execution_count": 21,
   "metadata": {},
   "outputs": [
    {
     "data": {
      "text/html": [
       "<div>\n",
       "<style scoped>\n",
       "    .dataframe tbody tr th:only-of-type {\n",
       "        vertical-align: middle;\n",
       "    }\n",
       "\n",
       "    .dataframe tbody tr th {\n",
       "        vertical-align: top;\n",
       "    }\n",
       "\n",
       "    .dataframe thead th {\n",
       "        text-align: right;\n",
       "    }\n",
       "</style>\n",
       "<table border=\"1\" class=\"dataframe\">\n",
       "  <thead>\n",
       "    <tr style=\"text-align: right;\">\n",
       "      <th></th>\n",
       "      <th>feature_is_filtered</th>\n",
       "      <th>feature_name</th>\n",
       "      <th>feature_reference</th>\n",
       "      <th>feature_biotype</th>\n",
       "    </tr>\n",
       "    <tr>\n",
       "      <th>feature_id</th>\n",
       "      <th></th>\n",
       "      <th></th>\n",
       "      <th></th>\n",
       "      <th></th>\n",
       "    </tr>\n",
       "  </thead>\n",
       "  <tbody>\n",
       "    <tr>\n",
       "      <th>ENSG00000227191</th>\n",
       "      <td>False</td>\n",
       "      <td>TRGC2</td>\n",
       "      <td>NCBITaxon:9606</td>\n",
       "      <td>gene</td>\n",
       "    </tr>\n",
       "    <tr>\n",
       "      <th>ENSG00000211772</th>\n",
       "      <td>False</td>\n",
       "      <td>TRBC2</td>\n",
       "      <td>NCBITaxon:9606</td>\n",
       "      <td>gene</td>\n",
       "    </tr>\n",
       "    <tr>\n",
       "      <th>ENSG00000178719</th>\n",
       "      <td>False</td>\n",
       "      <td>GRINA</td>\n",
       "      <td>NCBITaxon:9606</td>\n",
       "      <td>gene</td>\n",
       "    </tr>\n",
       "    <tr>\n",
       "      <th>ENSG00000168172</th>\n",
       "      <td>False</td>\n",
       "      <td>HOOK3</td>\n",
       "      <td>NCBITaxon:9606</td>\n",
       "      <td>gene</td>\n",
       "    </tr>\n",
       "    <tr>\n",
       "      <th>ENSG00000225684</th>\n",
       "      <td>False</td>\n",
       "      <td>FAM225B</td>\n",
       "      <td>NCBITaxon:9606</td>\n",
       "      <td>gene</td>\n",
       "    </tr>\n",
       "  </tbody>\n",
       "</table>\n",
       "</div>"
      ],
      "text/plain": [
       "                 feature_is_filtered feature_name feature_reference  \\\n",
       "feature_id                                                            \n",
       "ENSG00000227191                False        TRGC2    NCBITaxon:9606   \n",
       "ENSG00000211772                False        TRBC2    NCBITaxon:9606   \n",
       "ENSG00000178719                False        GRINA    NCBITaxon:9606   \n",
       "ENSG00000168172                False        HOOK3    NCBITaxon:9606   \n",
       "ENSG00000225684                False      FAM225B    NCBITaxon:9606   \n",
       "\n",
       "                feature_biotype  \n",
       "feature_id                       \n",
       "ENSG00000227191            gene  \n",
       "ENSG00000211772            gene  \n",
       "ENSG00000178719            gene  \n",
       "ENSG00000168172            gene  \n",
       "ENSG00000225684            gene  "
      ]
     },
     "execution_count": 21,
     "metadata": {},
     "output_type": "execute_result"
    }
   ],
   "source": [
    "ad.var.head()"
   ]
  },
  {
   "cell_type": "markdown",
   "metadata": {},
   "source": [
    "### coordinates in full res image"
   ]
  },
  {
   "cell_type": "code",
   "execution_count": 22,
   "metadata": {},
   "outputs": [
    {
     "data": {
      "text/plain": [
       "array([[6025., 2392.],\n",
       "       [1194., 5942.],\n",
       "       [6999., 7318.],\n",
       "       ...,\n",
       "       [5547., 6855.],\n",
       "       [8436., 5997.],\n",
       "       [1604., 5463.]])"
      ]
     },
     "execution_count": 22,
     "metadata": {},
     "output_type": "execute_result"
    }
   ],
   "source": [
    "ad.obsm['spatial']"
   ]
  },
  {
   "cell_type": "code",
   "execution_count": null,
   "metadata": {},
   "outputs": [],
   "source": []
  },
  {
   "cell_type": "markdown",
   "metadata": {},
   "source": [
    "#### Spot size "
   ]
  },
  {
   "cell_type": "code",
   "execution_count": 23,
   "metadata": {},
   "outputs": [
    {
     "data": {
      "text/plain": [
       "77.28161776150627"
      ]
     },
     "execution_count": 23,
     "metadata": {},
     "output_type": "execute_result"
    }
   ],
   "source": [
    "ad.uns['spatial']['Visium_19_CK297']['scalefactors']['spot_diameter_fullres']"
   ]
  },
  {
   "cell_type": "code",
   "execution_count": null,
   "metadata": {},
   "outputs": [],
   "source": []
  },
  {
   "cell_type": "markdown",
   "metadata": {},
   "source": [
    "### gene expression"
   ]
  },
  {
   "cell_type": "code",
   "execution_count": 24,
   "metadata": {},
   "outputs": [
    {
     "data": {
      "text/plain": [
       "<4113x17667 sparse matrix of type '<class 'numpy.float32'>'\n",
       "\twith 14273197 stored elements in Compressed Sparse Row format>"
      ]
     },
     "execution_count": 24,
     "metadata": {},
     "output_type": "execute_result"
    }
   ],
   "source": [
    "ad.X # input gene expression"
   ]
  },
  {
   "cell_type": "code",
   "execution_count": null,
   "metadata": {},
   "outputs": [],
   "source": []
  },
  {
   "cell_type": "markdown",
   "metadata": {},
   "source": [
    "## cell-wise adata"
   ]
  },
  {
   "cell_type": "code",
   "execution_count": 2,
   "metadata": {},
   "outputs": [],
   "source": [
    "file_path = \"/Users/pengzhizhang/ST_Histo/notebooks/HumanHF/TGFB_allgenes_counts/GT_IZ_P9_rep2_from_counts.h5ad\""
   ]
  },
  {
   "cell_type": "code",
   "execution_count": 3,
   "metadata": {},
   "outputs": [],
   "source": [
    "ad = sc.read_h5ad(file_path)"
   ]
  },
  {
   "cell_type": "code",
   "execution_count": 4,
   "metadata": {},
   "outputs": [
    {
     "data": {
      "text/plain": [
       "AnnData object with n_obs × n_vars = 48557 × 3059\n",
       "    obs: 'n_counts', 'n_genes', 'percent.mt', 'Adipocyte', 'Cardiomyocyte', 'Endothelial', 'Fibroblast', 'Lymphoid', 'Mast', 'Myeloid', 'Neuronal', 'Pericyte', 'Cycling.cells', 'vSMCs', 'cell_type_original', 'assay_ontology_term_id', 'cell_type_ontology_term_id', 'development_stage_ontology_term_id', 'disease_ontology_term_id', 'self_reported_ethnicity_ontology_term_id', 'is_primary_data', 'organism_ontology_term_id', 'sex_ontology_term_id', 'tissue_ontology_term_id', 'donor_id', 'suspension_type', 'cell_type', 'assay', 'disease', 'organism', 'sex', 'tissue', 'self_reported_ethnicity', 'development_stage', 'spot_barcodes', 'x', 'y', 'mean_gray', 'std_gray', 'entropy_img', 'mean_r', 'mean_g', 'mean_b', 'std_r', 'std_g', 'std_b', 'spot_heterogeneity', 'node_weights'\n",
       "    var: 'feature_is_filtered', 'feature_name', 'feature_reference', 'feature_biotype', 'highly_variable', 'means', 'dispersions', 'dispersions_norm', 'used_for_prediction', 'used_for_vae', 'used_for_reduced'\n",
       "    uns: 'X_approximate_distribution', 'cell_image_props', 'default_embedding', 'hvg', 'log1p', 'schema_version', 'snn', 'spatial', 'title'\n",
       "    obsm: 'X_pca', 'X_spatial', 'X_umap', 'spatial'\n",
       "    layers: 'fineST_20'\n",
       "    obsp: 'snn_connectivities', 'snn_knn_connectivities', 'snn_transition_matrix'"
      ]
     },
     "execution_count": 4,
     "metadata": {},
     "output_type": "execute_result"
    }
   ],
   "source": [
    "ad"
   ]
  },
  {
   "cell_type": "code",
   "execution_count": 5,
   "metadata": {},
   "outputs": [
    {
     "data": {
      "text/html": [
       "<div>\n",
       "<style scoped>\n",
       "    .dataframe tbody tr th:only-of-type {\n",
       "        vertical-align: middle;\n",
       "    }\n",
       "\n",
       "    .dataframe tbody tr th {\n",
       "        vertical-align: top;\n",
       "    }\n",
       "\n",
       "    .dataframe thead th {\n",
       "        text-align: right;\n",
       "    }\n",
       "</style>\n",
       "<table border=\"1\" class=\"dataframe\">\n",
       "  <thead>\n",
       "    <tr style=\"text-align: right;\">\n",
       "      <th></th>\n",
       "      <th>n_counts</th>\n",
       "      <th>n_genes</th>\n",
       "      <th>percent.mt</th>\n",
       "      <th>Adipocyte</th>\n",
       "      <th>Cardiomyocyte</th>\n",
       "      <th>Endothelial</th>\n",
       "      <th>Fibroblast</th>\n",
       "      <th>Lymphoid</th>\n",
       "      <th>Mast</th>\n",
       "      <th>Myeloid</th>\n",
       "      <th>...</th>\n",
       "      <th>std_gray</th>\n",
       "      <th>entropy_img</th>\n",
       "      <th>mean_r</th>\n",
       "      <th>mean_g</th>\n",
       "      <th>mean_b</th>\n",
       "      <th>std_r</th>\n",
       "      <th>std_g</th>\n",
       "      <th>std_b</th>\n",
       "      <th>spot_heterogeneity</th>\n",
       "      <th>node_weights</th>\n",
       "    </tr>\n",
       "  </thead>\n",
       "  <tbody>\n",
       "    <tr>\n",
       "      <th>CAATTTGACCGGGAAG-1</th>\n",
       "      <td>3887.0</td>\n",
       "      <td>2133</td>\n",
       "      <td>17.435798</td>\n",
       "      <td>0.006099</td>\n",
       "      <td>0.445344</td>\n",
       "      <td>0.114735</td>\n",
       "      <td>0.206307</td>\n",
       "      <td>0.000232</td>\n",
       "      <td>0.000070</td>\n",
       "      <td>0.014901</td>\n",
       "      <td>...</td>\n",
       "      <td>34.413726</td>\n",
       "      <td>6.759830</td>\n",
       "      <td>228.331211</td>\n",
       "      <td>149.702932</td>\n",
       "      <td>177.849151</td>\n",
       "      <td>25.214176</td>\n",
       "      <td>43.255451</td>\n",
       "      <td>32.339341</td>\n",
       "      <td>0.137477</td>\n",
       "      <td>0.557443</td>\n",
       "    </tr>\n",
       "    <tr>\n",
       "      <th>AATGCACCAAGCAATG-1</th>\n",
       "      <td>7198.0</td>\n",
       "      <td>3333</td>\n",
       "      <td>15.627564</td>\n",
       "      <td>0.000093</td>\n",
       "      <td>0.278036</td>\n",
       "      <td>0.155258</td>\n",
       "      <td>0.231203</td>\n",
       "      <td>0.000387</td>\n",
       "      <td>0.000207</td>\n",
       "      <td>0.063128</td>\n",
       "      <td>...</td>\n",
       "      <td>18.848696</td>\n",
       "      <td>6.186600</td>\n",
       "      <td>231.055363</td>\n",
       "      <td>153.085262</td>\n",
       "      <td>182.514468</td>\n",
       "      <td>22.793622</td>\n",
       "      <td>21.850645</td>\n",
       "      <td>16.497176</td>\n",
       "      <td>0.042009</td>\n",
       "      <td>0.836464</td>\n",
       "    </tr>\n",
       "    <tr>\n",
       "      <th>TGTGACTAGAGTTTGC-1</th>\n",
       "      <td>22974.0</td>\n",
       "      <td>5852</td>\n",
       "      <td>12.449799</td>\n",
       "      <td>0.002897</td>\n",
       "      <td>0.526773</td>\n",
       "      <td>0.096385</td>\n",
       "      <td>0.051035</td>\n",
       "      <td>0.003108</td>\n",
       "      <td>0.000225</td>\n",
       "      <td>0.028704</td>\n",
       "      <td>...</td>\n",
       "      <td>22.608297</td>\n",
       "      <td>6.457889</td>\n",
       "      <td>221.088927</td>\n",
       "      <td>155.336613</td>\n",
       "      <td>185.692323</td>\n",
       "      <td>26.471056</td>\n",
       "      <td>24.247405</td>\n",
       "      <td>16.322560</td>\n",
       "      <td>0.107254</td>\n",
       "      <td>0.633864</td>\n",
       "    </tr>\n",
       "    <tr>\n",
       "      <th>TACGTGCACTATGCTG-1</th>\n",
       "      <td>8749.0</td>\n",
       "      <td>3649</td>\n",
       "      <td>13.566664</td>\n",
       "      <td>0.001075</td>\n",
       "      <td>0.192928</td>\n",
       "      <td>0.326202</td>\n",
       "      <td>0.054105</td>\n",
       "      <td>0.002042</td>\n",
       "      <td>0.000123</td>\n",
       "      <td>0.001716</td>\n",
       "      <td>...</td>\n",
       "      <td>23.555643</td>\n",
       "      <td>6.445840</td>\n",
       "      <td>222.171682</td>\n",
       "      <td>152.318480</td>\n",
       "      <td>183.470293</td>\n",
       "      <td>27.129616</td>\n",
       "      <td>25.503439</td>\n",
       "      <td>17.552124</td>\n",
       "      <td>0.062655</td>\n",
       "      <td>0.766182</td>\n",
       "    </tr>\n",
       "    <tr>\n",
       "      <th>CTCTTCTATTGACTGG-1</th>\n",
       "      <td>8863.0</td>\n",
       "      <td>3719</td>\n",
       "      <td>13.654754</td>\n",
       "      <td>0.000414</td>\n",
       "      <td>0.240379</td>\n",
       "      <td>0.170765</td>\n",
       "      <td>0.221966</td>\n",
       "      <td>0.001363</td>\n",
       "      <td>0.097979</td>\n",
       "      <td>0.005946</td>\n",
       "      <td>...</td>\n",
       "      <td>29.044994</td>\n",
       "      <td>6.539226</td>\n",
       "      <td>225.728395</td>\n",
       "      <td>168.540895</td>\n",
       "      <td>197.727045</td>\n",
       "      <td>35.657513</td>\n",
       "      <td>29.744155</td>\n",
       "      <td>18.755579</td>\n",
       "      <td>0.079074</td>\n",
       "      <td>0.714530</td>\n",
       "    </tr>\n",
       "  </tbody>\n",
       "</table>\n",
       "<p>5 rows × 48 columns</p>\n",
       "</div>"
      ],
      "text/plain": [
       "                    n_counts  n_genes  percent.mt  Adipocyte  Cardiomyocyte  \\\n",
       "CAATTTGACCGGGAAG-1    3887.0     2133   17.435798   0.006099       0.445344   \n",
       "AATGCACCAAGCAATG-1    7198.0     3333   15.627564   0.000093       0.278036   \n",
       "TGTGACTAGAGTTTGC-1   22974.0     5852   12.449799   0.002897       0.526773   \n",
       "TACGTGCACTATGCTG-1    8749.0     3649   13.566664   0.001075       0.192928   \n",
       "CTCTTCTATTGACTGG-1    8863.0     3719   13.654754   0.000414       0.240379   \n",
       "\n",
       "                    Endothelial  Fibroblast  Lymphoid      Mast   Myeloid  \\\n",
       "CAATTTGACCGGGAAG-1     0.114735    0.206307  0.000232  0.000070  0.014901   \n",
       "AATGCACCAAGCAATG-1     0.155258    0.231203  0.000387  0.000207  0.063128   \n",
       "TGTGACTAGAGTTTGC-1     0.096385    0.051035  0.003108  0.000225  0.028704   \n",
       "TACGTGCACTATGCTG-1     0.326202    0.054105  0.002042  0.000123  0.001716   \n",
       "CTCTTCTATTGACTGG-1     0.170765    0.221966  0.001363  0.097979  0.005946   \n",
       "\n",
       "                    ...   std_gray  entropy_img      mean_r      mean_g  \\\n",
       "CAATTTGACCGGGAAG-1  ...  34.413726     6.759830  228.331211  149.702932   \n",
       "AATGCACCAAGCAATG-1  ...  18.848696     6.186600  231.055363  153.085262   \n",
       "TGTGACTAGAGTTTGC-1  ...  22.608297     6.457889  221.088927  155.336613   \n",
       "TACGTGCACTATGCTG-1  ...  23.555643     6.445840  222.171682  152.318480   \n",
       "CTCTTCTATTGACTGG-1  ...  29.044994     6.539226  225.728395  168.540895   \n",
       "\n",
       "                        mean_b      std_r      std_g      std_b  \\\n",
       "CAATTTGACCGGGAAG-1  177.849151  25.214176  43.255451  32.339341   \n",
       "AATGCACCAAGCAATG-1  182.514468  22.793622  21.850645  16.497176   \n",
       "TGTGACTAGAGTTTGC-1  185.692323  26.471056  24.247405  16.322560   \n",
       "TACGTGCACTATGCTG-1  183.470293  27.129616  25.503439  17.552124   \n",
       "CTCTTCTATTGACTGG-1  197.727045  35.657513  29.744155  18.755579   \n",
       "\n",
       "                   spot_heterogeneity node_weights  \n",
       "CAATTTGACCGGGAAG-1           0.137477     0.557443  \n",
       "AATGCACCAAGCAATG-1           0.042009     0.836464  \n",
       "TGTGACTAGAGTTTGC-1           0.107254     0.633864  \n",
       "TACGTGCACTATGCTG-1           0.062655     0.766182  \n",
       "CTCTTCTATTGACTGG-1           0.079074     0.714530  \n",
       "\n",
       "[5 rows x 48 columns]"
      ]
     },
     "execution_count": 5,
     "metadata": {},
     "output_type": "execute_result"
    }
   ],
   "source": [
    "ad.obs.head()"
   ]
  },
  {
   "cell_type": "code",
   "execution_count": 6,
   "metadata": {},
   "outputs": [
    {
     "data": {
      "text/html": [
       "<div>\n",
       "<style scoped>\n",
       "    .dataframe tbody tr th:only-of-type {\n",
       "        vertical-align: middle;\n",
       "    }\n",
       "\n",
       "    .dataframe tbody tr th {\n",
       "        vertical-align: top;\n",
       "    }\n",
       "\n",
       "    .dataframe thead th {\n",
       "        text-align: right;\n",
       "    }\n",
       "</style>\n",
       "<table border=\"1\" class=\"dataframe\">\n",
       "  <thead>\n",
       "    <tr style=\"text-align: right;\">\n",
       "      <th></th>\n",
       "      <th>feature_is_filtered</th>\n",
       "      <th>feature_name</th>\n",
       "      <th>feature_reference</th>\n",
       "      <th>feature_biotype</th>\n",
       "      <th>highly_variable</th>\n",
       "      <th>means</th>\n",
       "      <th>dispersions</th>\n",
       "      <th>dispersions_norm</th>\n",
       "      <th>used_for_prediction</th>\n",
       "      <th>used_for_vae</th>\n",
       "      <th>used_for_reduced</th>\n",
       "    </tr>\n",
       "    <tr>\n",
       "      <th>feature_id</th>\n",
       "      <th></th>\n",
       "      <th></th>\n",
       "      <th></th>\n",
       "      <th></th>\n",
       "      <th></th>\n",
       "      <th></th>\n",
       "      <th></th>\n",
       "      <th></th>\n",
       "      <th></th>\n",
       "      <th></th>\n",
       "      <th></th>\n",
       "    </tr>\n",
       "  </thead>\n",
       "  <tbody>\n",
       "    <tr>\n",
       "      <th>ENSG00000211772</th>\n",
       "      <td>False</td>\n",
       "      <td>TRBC2</td>\n",
       "      <td>NCBITaxon:9606</td>\n",
       "      <td>gene</td>\n",
       "      <td>True</td>\n",
       "      <td>0.172748</td>\n",
       "      <td>0.605533</td>\n",
       "      <td>0.840074</td>\n",
       "      <td>True</td>\n",
       "      <td>False</td>\n",
       "      <td>False</td>\n",
       "    </tr>\n",
       "    <tr>\n",
       "      <th>ENSG00000168172</th>\n",
       "      <td>False</td>\n",
       "      <td>HOOK3</td>\n",
       "      <td>NCBITaxon:9606</td>\n",
       "      <td>gene</td>\n",
       "      <td>True</td>\n",
       "      <td>0.461210</td>\n",
       "      <td>0.588796</td>\n",
       "      <td>0.526172</td>\n",
       "      <td>True</td>\n",
       "      <td>False</td>\n",
       "      <td>False</td>\n",
       "    </tr>\n",
       "    <tr>\n",
       "      <th>ENSG00000204271</th>\n",
       "      <td>False</td>\n",
       "      <td>SPIN3</td>\n",
       "      <td>NCBITaxon:9606</td>\n",
       "      <td>gene</td>\n",
       "      <td>True</td>\n",
       "      <td>0.085301</td>\n",
       "      <td>0.810396</td>\n",
       "      <td>1.746955</td>\n",
       "      <td>True</td>\n",
       "      <td>False</td>\n",
       "      <td>False</td>\n",
       "    </tr>\n",
       "    <tr>\n",
       "      <th>ENSG00000230424</th>\n",
       "      <td>False</td>\n",
       "      <td>EMC1-AS1</td>\n",
       "      <td>NCBITaxon:9606</td>\n",
       "      <td>gene</td>\n",
       "      <td>True</td>\n",
       "      <td>0.077707</td>\n",
       "      <td>0.611928</td>\n",
       "      <td>0.868384</td>\n",
       "      <td>True</td>\n",
       "      <td>False</td>\n",
       "      <td>False</td>\n",
       "    </tr>\n",
       "    <tr>\n",
       "      <th>ENSG00000165714</th>\n",
       "      <td>False</td>\n",
       "      <td>BORCS5</td>\n",
       "      <td>NCBITaxon:9606</td>\n",
       "      <td>gene</td>\n",
       "      <td>True</td>\n",
       "      <td>0.086386</td>\n",
       "      <td>0.679632</td>\n",
       "      <td>1.168093</td>\n",
       "      <td>True</td>\n",
       "      <td>False</td>\n",
       "      <td>False</td>\n",
       "    </tr>\n",
       "  </tbody>\n",
       "</table>\n",
       "</div>"
      ],
      "text/plain": [
       "                 feature_is_filtered feature_name feature_reference  \\\n",
       "feature_id                                                            \n",
       "ENSG00000211772                False        TRBC2    NCBITaxon:9606   \n",
       "ENSG00000168172                False        HOOK3    NCBITaxon:9606   \n",
       "ENSG00000204271                False        SPIN3    NCBITaxon:9606   \n",
       "ENSG00000230424                False     EMC1-AS1    NCBITaxon:9606   \n",
       "ENSG00000165714                False       BORCS5    NCBITaxon:9606   \n",
       "\n",
       "                feature_biotype  highly_variable     means  dispersions  \\\n",
       "feature_id                                                                \n",
       "ENSG00000211772            gene             True  0.172748     0.605533   \n",
       "ENSG00000168172            gene             True  0.461210     0.588796   \n",
       "ENSG00000204271            gene             True  0.085301     0.810396   \n",
       "ENSG00000230424            gene             True  0.077707     0.611928   \n",
       "ENSG00000165714            gene             True  0.086386     0.679632   \n",
       "\n",
       "                 dispersions_norm  used_for_prediction  used_for_vae  \\\n",
       "feature_id                                                             \n",
       "ENSG00000211772          0.840074                 True         False   \n",
       "ENSG00000168172          0.526172                 True         False   \n",
       "ENSG00000204271          1.746955                 True         False   \n",
       "ENSG00000230424          0.868384                 True         False   \n",
       "ENSG00000165714          1.168093                 True         False   \n",
       "\n",
       "                 used_for_reduced  \n",
       "feature_id                         \n",
       "ENSG00000211772             False  \n",
       "ENSG00000168172             False  \n",
       "ENSG00000204271             False  \n",
       "ENSG00000230424             False  \n",
       "ENSG00000165714             False  "
      ]
     },
     "execution_count": 6,
     "metadata": {},
     "output_type": "execute_result"
    }
   ],
   "source": [
    "ad.var.head()"
   ]
  },
  {
   "cell_type": "markdown",
   "metadata": {},
   "source": [
    "### coordinates in full res image"
   ]
  },
  {
   "cell_type": "code",
   "execution_count": 7,
   "metadata": {},
   "outputs": [
    {
     "data": {
      "text/plain": [
       "array([[1610.62532982, 7687.83377309],\n",
       "       [2776.        , 2710.49175824],\n",
       "       [7864.46003899, 1900.31968811],\n",
       "       ...,\n",
       "       [5684.25862069, 5207.03448276],\n",
       "       [6724.45652174, 5162.13043478],\n",
       "       [4348.2972973 , 6248.36486486]])"
      ]
     },
     "execution_count": 7,
     "metadata": {},
     "output_type": "execute_result"
    }
   ],
   "source": [
    "ad.obsm['spatial']"
   ]
  },
  {
   "cell_type": "code",
   "execution_count": null,
   "metadata": {},
   "outputs": [],
   "source": []
  },
  {
   "cell_type": "markdown",
   "metadata": {},
   "source": [
    "#### Spot size "
   ]
  },
  {
   "cell_type": "code",
   "execution_count": 10,
   "metadata": {},
   "outputs": [
    {
     "data": {
      "text/plain": [
       "77.28161776150627"
      ]
     },
     "execution_count": 10,
     "metadata": {},
     "output_type": "execute_result"
    }
   ],
   "source": [
    "ad.uns['spatial']['Visium_19_CK297']['scalefactors']['spot_diameter_fullres']"
   ]
  },
  {
   "cell_type": "code",
   "execution_count": null,
   "metadata": {},
   "outputs": [],
   "source": []
  },
  {
   "cell_type": "markdown",
   "metadata": {},
   "source": [
    "### gene expression"
   ]
  },
  {
   "cell_type": "code",
   "execution_count": 13,
   "metadata": {},
   "outputs": [
    {
     "data": {
      "text/plain": [
       "<48557x3059 sparse matrix of type '<class 'numpy.int64'>'\n",
       "\twith 32269268 stored elements in Compressed Sparse Row format>"
      ]
     },
     "execution_count": 13,
     "metadata": {},
     "output_type": "execute_result"
    }
   ],
   "source": [
    "ad.layers['fineST_20'] # predicted gene expression (counts)"
   ]
  },
  {
   "cell_type": "code",
   "execution_count": 14,
   "metadata": {},
   "outputs": [
    {
     "data": {
      "text/plain": [
       "<48557x3059 sparse matrix of type '<class 'numpy.float32'>'\n",
       "\twith 32269268 stored elements in Compressed Sparse Row format>"
      ]
     },
     "execution_count": 14,
     "metadata": {},
     "output_type": "execute_result"
    }
   ],
   "source": [
    "ad.X # input gene expression"
   ]
  },
  {
   "cell_type": "code",
   "execution_count": null,
   "metadata": {},
   "outputs": [],
   "source": []
  }
 ],
 "metadata": {
  "kernelspec": {
   "display_name": "histocartography",
   "language": "python",
   "name": "python3"
  },
  "language_info": {
   "codemirror_mode": {
    "name": "ipython",
    "version": 3
   },
   "file_extension": ".py",
   "mimetype": "text/x-python",
   "name": "python",
   "nbconvert_exporter": "python",
   "pygments_lexer": "ipython3",
   "version": "3.9.0"
  },
  "orig_nbformat": 4
 },
 "nbformat": 4,
 "nbformat_minor": 2
}
