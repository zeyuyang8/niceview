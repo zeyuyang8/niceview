{
 "cells": [
  {
   "cell_type": "code",
   "execution_count": 1,
   "metadata": {},
   "outputs": [],
   "source": [
    "import os\n",
    "from niceview.utils.mask import sparse_npz_to_array\n",
    "from niceview.utils.tools import normalize_log_nonzero_to_range\n",
    "import numpy as np\n",
    "import cv2"
   ]
  },
  {
   "cell_type": "code",
   "execution_count": 2,
   "metadata": {},
   "outputs": [],
   "source": [
    "# configurations\n",
    "DATA_PATH = '../examples/data/'"
   ]
  },
  {
   "cell_type": "code",
   "execution_count": 3,
   "metadata": {},
   "outputs": [],
   "source": [
    "# TODO: automate this\n",
    "mask_filtered_relabeled_name = 'gt-iz-p9-rep2-mask-filtered-relabeled.npz'  # variable\n",
    "img_name = 'gt-iz-p9-rep2-img.tiff'  # variable\n",
    "img_gis_name = 'gt-iz-p9-rep2-img-gis.tiff'  # variable\n",
    "img_masked_name = 'gt-iz-p9-rep2-img-masked.png'  # variable\n",
    "img_masked_gis_name = 'gt-iz-p9-rep2-img-masked-gis.tiff'  # variable\n",
    "cell_info_name = 'gt-iz-p9-rep2-cells-info.csv'  # variable\n",
    "\n",
    "# load data\n",
    "mask_filtered_relabeled = sparse_npz_to_array(os.path.join(DATA_PATH, mask_filtered_relabeled_name))"
   ]
  },
  {
   "cell_type": "code",
   "execution_count": 4,
   "metadata": {},
   "outputs": [],
   "source": [
    "def mask_overlay_image(img_path, mask, dst_path, overwrite=False):\n",
    "    \"\"\"Overlay mask on image and save to file.\n",
    "\n",
    "    Args:\n",
    "        img_path (str): path to image.\n",
    "        mask (np.ndarray): mask array of shape (row, col), background value is 0.\n",
    "        dst_path (str): destination path.\n",
    "        overwrite (bool): whether to overwrite existing file.\n",
    "\n",
    "    Returns:\n",
    "        str: destination path.\n",
    "    \"\"\"\n",
    "    if os.path.exists(dst_path) and not overwrite:\n",
    "        print(f'File {dst_path} already exists.')\n",
    "        return dst_path\n",
    "    \n",
    "    # mask image\n",
    "    mask_img = cv2.cvtColor(mask.astype(np.uint8), cv2.COLOR_BGR2RGB)\n",
    "    mask_img = cv2.applyColorMap(mask_img, cv2.COLORMAP_JET)\n",
    "    \n",
    "    # background image\n",
    "    bkgd_img = cv2.imread(img_path)\n",
    "\n",
    "    # place filter\n",
    "    mask_place = (mask != 0).astype(np.uint8)  # mask locations\n",
    "    bkgd_place = (mask == 0).astype(np.uint8)  # background locations\n",
    "\n",
    "    # overlay\n",
    "    heatmap = mask_place * np.transpose(mask_img, (2, 0, 1))  # mask\n",
    "    heatmap = heatmap + bkgd_place * np.transpose(bkgd_img, (2, 0, 1))  # background\n",
    "    heatmap = np.transpose(heatmap, (1, 2, 0))\n",
    "    cv2.imwrite(dst_path, heatmap)\n",
    "    return dst_path"
   ]
  },
  {
   "cell_type": "code",
   "execution_count": 5,
   "metadata": {},
   "outputs": [],
   "source": [
    "# normalize\n",
    "mask_filtered_relabeled_norm = normalize_log_nonzero_to_range(mask_filtered_relabeled)"
   ]
  },
  {
   "cell_type": "code",
   "execution_count": 6,
   "metadata": {},
   "outputs": [],
   "source": [
    "# image with mask overlay witout geo-referencing\n",
    "img_masked_path = mask_overlay_image(\n",
    "    os.path.join(DATA_PATH, img_name),\n",
    "    mask_filtered_relabeled_norm,\n",
    "    os.path.join(DATA_PATH, img_masked_name),\n",
    "    overwrite=True,\n",
    ")"
   ]
  }
 ],
 "metadata": {
  "kernelspec": {
   "display_name": "niceview",
   "language": "python",
   "name": "python3"
  },
  "language_info": {
   "codemirror_mode": {
    "name": "ipython",
    "version": 3
   },
   "file_extension": ".py",
   "mimetype": "text/x-python",
   "name": "python",
   "nbconvert_exporter": "python",
   "pygments_lexer": "ipython3",
   "version": "3.9.0"
  },
  "orig_nbformat": 4
 },
 "nbformat": 4,
 "nbformat_minor": 2
}
