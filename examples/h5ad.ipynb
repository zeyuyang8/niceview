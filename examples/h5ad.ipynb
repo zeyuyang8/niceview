{
 "cells": [
  {
   "cell_type": "code",
   "execution_count": 1,
   "metadata": {},
   "outputs": [],
   "source": [
    "\"\"\"Example notebook of processing h5ad files.\"\"\"\n",
    "\n",
    "import scanpy as sc\n",
    "import scipy\n",
    "import pandas as pd\n",
    "from niceview.utils.tools import list_to_txt"
   ]
  },
  {
   "cell_type": "code",
   "execution_count": 2,
   "metadata": {},
   "outputs": [],
   "source": [
    "DATA_PATH = './data/'"
   ]
  },
  {
   "cell_type": "code",
   "execution_count": 3,
   "metadata": {},
   "outputs": [],
   "source": [
    "# spot-wise data\n",
    "spots = sc.read_h5ad(DATA_PATH + 'gt-iz-p9-rep2-spots.h5ad')\n",
    "\n",
    "# spots centroids coordinates\n",
    "spots_centroids = spots.obsm['spatial']\n",
    "\n",
    "# spots diameter\n",
    "spots_diameter = spots.uns['spatial']['Visium_19_CK297']['scalefactors']['spot_diameter_fullres']\n",
    "\n",
    "# spots gene expression\n",
    "spots_gene_exp = spots.X\n",
    "\n",
    "# spot gene names\n",
    "spots_gene_names = spots.var_names.to_list()"
   ]
  },
  {
   "cell_type": "code",
   "execution_count": 4,
   "metadata": {},
   "outputs": [],
   "source": [
    "scipy.sparse.save_npz(DATA_PATH + 'gt-iz-p9-rep2-spots-gene.npz', spots.X)"
   ]
  },
  {
   "cell_type": "code",
   "execution_count": 5,
   "metadata": {},
   "outputs": [
    {
     "data": {
      "text/plain": [
       "'./data/gt-iz-p9-rep2-spots-gene-names.txt'"
      ]
     },
     "execution_count": 5,
     "metadata": {},
     "output_type": "execute_result"
    }
   ],
   "source": [
    "spots_info = pd.DataFrame(\n",
    "    {\n",
    "        'x': spots_centroids[:, 0],\n",
    "        'y': spots_centroids[:, 1],\n",
    "        'diameter': spots_diameter,\n",
    "    },\n",
    ")\n",
    "spots_info.to_csv(DATA_PATH + 'gt-iz-p9-rep2-spots-info.csv', index=False)\n",
    "list_to_txt(spots_gene_names, DATA_PATH + 'gt-iz-p9-rep2-spots-gene-names.txt')"
   ]
  },
  {
   "cell_type": "code",
   "execution_count": 4,
   "metadata": {},
   "outputs": [],
   "source": [
    "# cell-wise data\n",
    "cells = sc.read_h5ad(DATA_PATH + 'gt-iz-p9-rep2-cells.h5ad')\n",
    "\n",
    "# cell centroids coordinates\n",
    "cells_centroids = cells.obsm['spatial']\n",
    "\n",
    "# cells gene expression\n",
    "cell_gene_expression = cells.X\n",
    "\n",
    "# cell gene names\n",
    "cell_gene_names = cells.var_names.to_list()\n",
    "\n",
    "# cell type\n",
    "cell_type = cells.obs['cell_type'].to_list()"
   ]
  },
  {
   "cell_type": "code",
   "execution_count": 7,
   "metadata": {},
   "outputs": [],
   "source": [
    "scipy.sparse.save_npz(DATA_PATH + 'gt-iz-p9-rep2-cells-gene.npz', cells.X)"
   ]
  },
  {
   "cell_type": "code",
   "execution_count": 11,
   "metadata": {},
   "outputs": [
    {
     "data": {
      "text/plain": [
       "'./data/gt-iz-p9-rep2-cells-gene-names.txt'"
      ]
     },
     "execution_count": 11,
     "metadata": {},
     "output_type": "execute_result"
    }
   ],
   "source": [
    "cell_info = pd.DataFrame(\n",
    "    {\n",
    "        'x': cells_centroids[:, 0],\n",
    "        'y': cells_centroids[:, 1],\n",
    "        'label': cell_type,\n",
    "    },\n",
    ")\n",
    "cell_info.to_csv(DATA_PATH + 'gt-iz-p9-rep2-cells-info.csv', index=False)\n",
    "list_to_txt(cell_gene_names, DATA_PATH + 'gt-iz-p9-rep2-cells-gene-names.txt')"
   ]
  },
  {
   "cell_type": "code",
   "execution_count": null,
   "metadata": {},
   "outputs": [],
   "source": []
  }
 ],
 "metadata": {
  "kernelspec": {
   "display_name": "niceview",
   "language": "python",
   "name": "python3"
  },
  "language_info": {
   "codemirror_mode": {
    "name": "ipython",
    "version": 3
   },
   "file_extension": ".py",
   "mimetype": "text/x-python",
   "name": "python",
   "nbconvert_exporter": "python",
   "pygments_lexer": "ipython3",
   "version": "3.9.0"
  },
  "orig_nbformat": 4
 },
 "nbformat": 4,
 "nbformat_minor": 2
}
