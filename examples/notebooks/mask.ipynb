{
 "cells": [
  {
   "cell_type": "code",
   "execution_count": 1,
   "metadata": {},
   "outputs": [],
   "source": [
    "import os\n",
    "import numpy as np\n",
    "from niceview.utils.mask import sparse_npz_to_array\n",
    "from niceview.utils.tools import txt_to_list, select_col_from_name\n",
    "import pandas as pd\n",
    "import skimage\n",
    "from sklearn.neighbors import NearestNeighbors\n",
    "import scipy"
   ]
  },
  {
   "cell_type": "code",
   "execution_count": 2,
   "metadata": {},
   "outputs": [],
   "source": [
    "DATA_PATH = '../data/'"
   ]
  },
  {
   "cell_type": "code",
   "execution_count": 3,
   "metadata": {},
   "outputs": [],
   "source": [
    "def get_nuclei_pixels(cm, ad_cell_pos):\n",
    "    \"\"\"Get nuclei pixels.\n",
    "    \n",
    "    Args:\n",
    "        cm (np.ndarray): Cell mask.\n",
    "        ad_cell_pos (np.ndarray): Adherent cell positions.\n",
    "    \n",
    "    Returns:\n",
    "        list: Nuclei region pixels.\n",
    "    \"\"\"\n",
    "    tol = 1e-6\n",
    "    regions = skimage.measure.regionprops(cm)\n",
    "    xy = np.array([r.centroid[::-1] for r in regions])\n",
    "    nbrs = NearestNeighbors(n_neighbors=1).fit(xy)\n",
    "    distance, indices = nbrs.kneighbors(ad_cell_pos)\n",
    "    c_index = indices[np.where(distance <= tol)]\n",
    "    nuclei_region_pixels = [\n",
    "        (regions[n].coords[:, 0], regions[n].coords[:, 1]) for n in c_index\n",
    "    ]\n",
    "    return nuclei_region_pixels\n",
    "\n",
    "\n",
    "def paint_regions(image_shape, matched_regions, cell_colors_list):\n",
    "    \"\"\"Paint regions.\n",
    "    \n",
    "    Args:\n",
    "        image_shape (tuple): Image shape.\n",
    "        matched_regions (list): Matched regions.\n",
    "        cell_colors_list (list): Cell colors list.\n",
    "    \n",
    "    Returns:\n",
    "        np.ndarray: Filled image.\n",
    "    \"\"\"\n",
    "    filled = np.ma.masked_all(image_shape)\n",
    "    for i, r in enumerate(matched_regions):\n",
    "        cc, rr = r\n",
    "        filled[cc, rr] = cell_colors_list[i]\n",
    "    return filled"
   ]
  },
  {
   "cell_type": "code",
   "execution_count": 4,
   "metadata": {},
   "outputs": [],
   "source": [
    "# read data\n",
    "mask = sparse_npz_to_array(os.path.join(DATA_PATH, 'gt-iz-p9-rep2-mask.npz'))\n",
    "cell_pos = pd.read_csv(DATA_PATH + 'gt-iz-p9-rep2-cells-info.csv')[['x', 'y']].values\n",
    "cells_gene = sparse_npz_to_array(os.path.join(DATA_PATH, 'gt-iz-p9-rep2-cells-gene.npz'))\n",
    "gene_names = txt_to_list(os.path.join(DATA_PATH, 'gt-iz-p9-rep2-cells-gene-names.txt'))"
   ]
  },
  {
   "cell_type": "code",
   "execution_count": 5,
   "metadata": {},
   "outputs": [],
   "source": [
    "# select gene\n",
    "# ENSG00000065534\n",
    "# ENSG00000037280\n",
    "gene = select_col_from_name(cells_gene, gene_names, 'ENSG00000065534')"
   ]
  },
  {
   "cell_type": "code",
   "execution_count": 6,
   "metadata": {},
   "outputs": [],
   "source": [
    "# find nuclei pixels\n",
    "matched_regions = get_nuclei_pixels(mask, cell_pos)"
   ]
  },
  {
   "cell_type": "code",
   "execution_count": 7,
   "metadata": {},
   "outputs": [],
   "source": [
    "# paint regions\n",
    "mask_filtered_relabeled = paint_regions(mask.shape, matched_regions, cell_colors_list=gene + 1e-6)\n",
    "mask_filtered_relabeled = scipy.sparse.csr_matrix(mask_filtered_relabeled.data)"
   ]
  },
  {
   "cell_type": "code",
   "execution_count": 8,
   "metadata": {},
   "outputs": [],
   "source": [
    "# save mask\n",
    "scipy.sparse.save_npz(DATA_PATH + 'gt-iz-p9-rep2-mask-filtered-relabeled.npz', mask_filtered_relabeled)"
   ]
  },
  {
   "cell_type": "code",
   "execution_count": null,
   "metadata": {},
   "outputs": [],
   "source": []
  }
 ],
 "metadata": {
  "kernelspec": {
   "display_name": "niceview",
   "language": "python",
   "name": "python3"
  },
  "language_info": {
   "codemirror_mode": {
    "name": "ipython",
    "version": 3
   },
   "file_extension": ".py",
   "mimetype": "text/x-python",
   "name": "python",
   "nbconvert_exporter": "python",
   "pygments_lexer": "ipython3",
   "version": "3.9.0"
  },
  "orig_nbformat": 4
 },
 "nbformat": 4,
 "nbformat_minor": 2
}
