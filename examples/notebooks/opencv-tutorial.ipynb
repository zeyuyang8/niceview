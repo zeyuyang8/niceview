{
 "cells": [
  {
   "cell_type": "code",
   "execution_count": 1,
   "metadata": {},
   "outputs": [
    {
     "data": {
      "text/plain": [
       "True"
      ]
     },
     "execution_count": 1,
     "metadata": {},
     "output_type": "execute_result"
    }
   ],
   "source": [
    "import cv2\n",
    "import numpy as np\n",
    "\n",
    "# Define circle properties\n",
    "center_x = 100  # x-coordinate of circle center\n",
    "center_y = 100  # y-coordinate of circle center\n",
    "diameter = 100  # diameter of the circle in pixels\n",
    "\n",
    "# Create a blank canvas (white image)\n",
    "canvas = np.ones((500, 500, 3), dtype=np.uint8)\n",
    "\n",
    "# Calculate radius from diameter\n",
    "radius = diameter // 2\n",
    "\n",
    "# Define circle color (BGR format)\n",
    "circle_color = (0, 0, 255)  # Red color\n",
    "\n",
    "# Draw the circle on the canvas\n",
    "cv2.circle(canvas, (center_x, center_y), radius, circle_color, thickness=2)\n",
    "cv2.imwrite(\"circle.png\", canvas)"
   ]
  },
  {
   "cell_type": "code",
   "execution_count": 2,
   "metadata": {},
   "outputs": [
    {
     "data": {
      "text/plain": [
       "True"
      ]
     },
     "execution_count": 2,
     "metadata": {},
     "output_type": "execute_result"
    }
   ],
   "source": [
    "import cv2\n",
    "import numpy as np\n",
    "\n",
    "# Define a list of circle properties\n",
    "circle_properties = [\n",
    "    {\"center\": (100, 100), \"diameter\": 50, \"color\": (0, 0, 255)},  # Red circle\n",
    "    {\"center\": (200, 150), \"diameter\": 70, \"color\": (0, 255, 0)},  # Green circle\n",
    "    {\"center\": (300, 200), \"diameter\": 60, \"color\": (255, 0, 0)},  # Blue circle\n",
    "]\n",
    "\n",
    "# Create a blank canvas (white image)\n",
    "canvas = np.ones((500, 500, 3), dtype=np.uint8) * 0\n",
    "\n",
    "# Function to draw a circle\n",
    "def draw_circle(circle):\n",
    "    center = circle[\"center\"]\n",
    "    diameter = circle[\"diameter\"]\n",
    "    radius = diameter // 2\n",
    "    circle_color = circle[\"color\"]\n",
    "    \n",
    "    cv2.circle(canvas, center, radius, circle_color, thickness=2)\n",
    "\n",
    "# Use map() and lambda function to draw circles\n",
    "list(map(lambda circle: draw_circle(circle), circle_properties))\n",
    "cv2.imwrite(\"circle.png\", canvas)\n"
   ]
  }
 ],
 "metadata": {
  "kernelspec": {
   "display_name": "niceview",
   "language": "python",
   "name": "python3"
  },
  "language_info": {
   "codemirror_mode": {
    "name": "ipython",
    "version": 3
   },
   "file_extension": ".py",
   "mimetype": "text/x-python",
   "name": "python",
   "nbconvert_exporter": "python",
   "pygments_lexer": "ipython3",
   "version": "3.9.0"
  },
  "orig_nbformat": 4
 },
 "nbformat": 4,
 "nbformat_minor": 2
}
