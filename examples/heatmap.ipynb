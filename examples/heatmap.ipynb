{
 "cells": [
  {
   "cell_type": "code",
   "execution_count": 1,
   "metadata": {},
   "outputs": [],
   "source": [
    "import pandas as pd\n",
    "import numpy as np\n",
    "import os\n",
    "from scipy.sparse import load_npz\n",
    "from niceview.utils.tools import normalize_array, select_col_from_name, txt_to_list\n",
    "import matplotlib.pyplot as plt\n",
    "from scipy.interpolate import griddata\n",
    "from scipy.ndimage import gaussian_filter\n",
    "import cv2"
   ]
  },
  {
   "cell_type": "code",
   "execution_count": 2,
   "metadata": {},
   "outputs": [],
   "source": [
    "DATA_PATH = './data/'\n",
    "PLOTS_PATH = './plots/'\n",
    "CMAX = 255"
   ]
  },
  {
   "cell_type": "code",
   "execution_count": 3,
   "metadata": {},
   "outputs": [],
   "source": [
    "sample_id = 'gt-iz-p9-rep2'\n",
    "cells_selected_gene_name = 'ENSG00000065534'\n",
    "spots_selected_gene_name = 'ENSG00000037280'\n",
    "\n",
    "files = {\n",
    "    'cells-gene-names': '-'.join([sample_id, 'cells-gene-names.txt']),\n",
    "    'cells-gene': '-'.join([sample_id, 'cells-gene.npz']),\n",
    "    'cells-info': '-'.join([sample_id, 'cells-info.csv']),\n",
    "    'img': '-'.join([sample_id, 'img.tiff']),\n",
    "    'mask-filtered-relabeled': '-'.join([sample_id, 'mask-filtered-relabeled.npz']),\n",
    "    'mask': '-'.join([sample_id, 'mask.npz']),\n",
    "    'spots-gene-names': '-'.join([sample_id, 'spots-gene-names.txt']),\n",
    "    'spots-gene': '-'.join([sample_id, 'spots-gene.npz']),\n",
    "    'spots-info': '-'.join([sample_id, 'spots-info.csv']),\n",
    "}\n",
    "cache = {\n",
    "    'blend-cells-gene': '-'.join([sample_id, 'blend-cells-gene.png']),\n",
    "    'blend-cells-type': '-'.join([sample_id, 'blend-cells-type.png']),\n",
    "    'blend-spots-gene': '-'.join([sample_id, 'blend-spots-gene.png']),\n",
    "    'mask-cells-type': '-'.join([sample_id, 'mask-cells-type.png']),\n",
    "    'mask-cells-gene': '-'.join([sample_id, 'mask-cells-gene.png']),\n",
    "    'spots-gene': '-'.join([sample_id, 'spots-gene.png']),\n",
    "    'gis-blend-cells': '-'.join([sample_id, 'gis-blend-cells.tiff']),\n",
    "    'gis-blend-spots': '-'.join([sample_id, 'gis-blend-spots.tiff']),\n",
    "}"
   ]
  },
  {
   "cell_type": "code",
   "execution_count": 4,
   "metadata": {},
   "outputs": [],
   "source": [
    "cells_info = pd.read_csv(os.path.join(DATA_PATH, files['cells-info']))\n",
    "cells_centroids = np.round(cells_info[['y', 'x']].values).astype(int)\n",
    "cells_gene = load_npz(os.path.join(DATA_PATH, files['cells-gene']))  # scipy.sparse.csr.csr_matrix\n",
    "cells_gene_names = txt_to_list(os.path.join(DATA_PATH, files['cells-gene-names']))\n",
    "cells_selected_gene = select_col_from_name(cells_gene, cells_gene_names, cells_selected_gene_name)\n",
    "cells_selected_gene_normalized = normalize_array(cells_selected_gene, 1, CMAX)"
   ]
  }
 ],
 "metadata": {
  "kernelspec": {
   "display_name": "niceview",
   "language": "python",
   "name": "python3"
  },
  "language_info": {
   "codemirror_mode": {
    "name": "ipython",
    "version": 3
   },
   "file_extension": ".py",
   "mimetype": "text/x-python",
   "name": "python",
   "nbconvert_exporter": "python",
   "pygments_lexer": "ipython3",
   "version": "3.9.0"
  },
  "orig_nbformat": 4
 },
 "nbformat": 4,
 "nbformat_minor": 2
}
