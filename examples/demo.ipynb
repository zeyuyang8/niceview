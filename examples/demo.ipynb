{
 "cells": [
  {
   "cell_type": "code",
   "execution_count": 1,
   "metadata": {},
   "outputs": [],
   "source": [
    "\"\"\"Demo notebook.\"\"\"\n",
    "\n",
    "import os\n",
    "from niceview.utils.raster import geo_ref_raster\n",
    "from niceview.utils.mask import sparse_npz_to_array\n",
    "from niceview.utils.tools import txt_to_list, select_col_from_name, normalize_nonzero_to_range\n",
    "from niceview.utils.cell import get_nuclei_pixels, paint_regions\n",
    "import numpy as np\n",
    "import pandas as pd\n",
    "import scipy\n",
    "import cv2"
   ]
  },
  {
   "cell_type": "code",
   "execution_count": 2,
   "metadata": {},
   "outputs": [],
   "source": [
    "# configurations\n",
    "DATA_PATH = '../examples/data/'"
   ]
  },
  {
   "cell_type": "code",
   "execution_count": 3,
   "metadata": {},
   "outputs": [],
   "source": [
    "# args\n",
    "file = {\n",
    "    'cells-gene-names': 'gt-iz-p9-rep2-cells-gene-names.txt',\n",
    "    'cells-gene': 'gt-iz-p9-rep2-cells-gene.npz',\n",
    "    'cells-info': 'gt-iz-p9-rep2-cells-info.csv',\n",
    "    'mask': 'gt-iz-p9-rep2-mask.npz',\n",
    "}\n",
    "\n",
    "mask_filtered_relabeled_name = 'gt-iz-p9-rep2-mask-filtered-relabeled.npz'  # variable\n",
    "img_name = 'gt-iz-p9-rep2-img.tiff'  # variable\n",
    "img_gis_name = 'gt-iz-p9-rep2-img-gis.tiff'  # variable\n",
    "img_masked_name = 'gt-iz-p9-rep2-img-masked.png'  # variable\n",
    "img_masked_gis_name = 'gt-iz-p9-rep2-img-masked-gis.tiff'  # variable\n",
    "cell_info_name = 'gt-iz-p9-rep2-cells-info.csv'  # variable\n",
    "\n",
    "selected_gene_id = 'ENSG00000065534'"
   ]
  },
  {
   "cell_type": "code",
   "execution_count": 4,
   "metadata": {},
   "outputs": [],
   "source": [
    "# read data\n",
    "mask = sparse_npz_to_array(os.path.join(DATA_PATH, 'gt-iz-p9-rep2-mask.npz'))\n",
    "cell_pos = pd.read_csv(DATA_PATH + 'gt-iz-p9-rep2-cells-info.csv')[['x', 'y']].values\n",
    "cells_gene = sparse_npz_to_array(os.path.join(DATA_PATH, 'gt-iz-p9-rep2-cells-gene.npz'))\n",
    "gene_names = txt_to_list(os.path.join(DATA_PATH, 'gt-iz-p9-rep2-cells-gene-names.txt'))\n",
    "\n",
    "# get nuclei pixels\n",
    "gene = select_col_from_name(cells_gene, gene_names, selected_gene_id)\n",
    "matched_regions = get_nuclei_pixels(mask, cell_pos)\n",
    "\n",
    "# relabel mask\n",
    "mask_filtered_relabeled = paint_regions(mask.shape, matched_regions, cell_colors_list=gene + 1e-6)\n",
    "mask_filtered_relabeled = scipy.sparse.csr_matrix(mask_filtered_relabeled.data)\n",
    "\n",
    "# save relabeled mask\n",
    "scipy.sparse.save_npz(DATA_PATH + 'gt-iz-p9-rep2-mask-filtered-relabeled.npz', mask_filtered_relabeled)\n",
    "\n",
    "# read relabeled mask\n",
    "mask_filtered_relabeled = sparse_npz_to_array(os.path.join(DATA_PATH, mask_filtered_relabeled_name))\n",
    "\n",
    "# normalize relabeled mask\n",
    "mask_filtered_relabeled_norm = normalize_nonzero_to_range(mask_filtered_relabeled)"
   ]
  },
  {
   "cell_type": "code",
   "execution_count": 5,
   "metadata": {},
   "outputs": [
    {
     "name": "stdout",
     "output_type": "stream",
     "text": [
      "File ../examples/data/gt-iz-p9-rep2-img-gis.tiff already exists.\n"
     ]
    }
   ],
   "source": [
    "# image gis\n",
    "img_gis_path = geo_ref_raster(\n",
    "    os.path.join(DATA_PATH, img_name),\n",
    "    os.path.join(DATA_PATH, img_gis_name),\n",
    "    overwrite=False,\n",
    ")"
   ]
  },
  {
   "cell_type": "code",
   "execution_count": 63,
   "metadata": {},
   "outputs": [],
   "source": [
    "def mask_overlay_image(img_path, mask, dst_path, mask_opacity=0.3, colormap='jet', overwrite=False):\n",
    "    \"\"\"Overlay mask on image and save to file.\n",
    "\n",
    "    Args:\n",
    "        img_path (str): path to image.\n",
    "        mask (np.ndarray): mask array of shape (row, col), background value is 0.\n",
    "        dst_path (str): destination path.\n",
    "        mask_opacity (float): opacity of mask.\n",
    "        colormap (str): colormap of mask.\n",
    "        overwrite (bool): whether to overwrite existing file.\n",
    "\n",
    "    Returns:\n",
    "        str: destination path.\n",
    "    \"\"\"\n",
    "    if os.path.exists(dst_path) and not overwrite:\n",
    "        print(f'File {dst_path} already exists.')\n",
    "        return dst_path\n",
    "    if colormap == 'jet':\n",
    "        cmap = cv2.COLORMAP_JET\n",
    "    \n",
    "    # mask image\n",
    "    mask_img = cv2.cvtColor(mask.astype(np.uint8), cv2.COLOR_BGR2RGB)\n",
    "    mask_img = cv2.applyColorMap(mask_img, cmap)\n",
    "    mask_blend = cv2.bitwise_and(mask_img, mask_img, mask=mask.astype(np.uint8))\n",
    "    \n",
    "    # background image\n",
    "    bkgd_img = cv2.imread(img_path)\n",
    "    bkgd_blend = cv2.bitwise_and(bkgd_img, bkgd_img, mask=mask.astype(np.uint8))\n",
    "    inv_mask = (mask == 0).astype(np.uint8)\n",
    "    bkgd = cv2.bitwise_and(bkgd_img, bkgd_img, mask=inv_mask)\n",
    "    \n",
    "    # overlay\n",
    "    mask_ovelay = cv2.addWeighted(mask_blend, mask_opacity, bkgd_blend, 1.0 - mask_opacity, 0)\n",
    "    whole_img = cv2.addWeighted(mask_ovelay, 1.0, bkgd, 1.0, 0)\n",
    "    \n",
    "    # save\n",
    "    cv2.imwrite(dst_path, whole_img)\n",
    "    return dst_path"
   ]
  },
  {
   "cell_type": "code",
   "execution_count": 64,
   "metadata": {},
   "outputs": [],
   "source": [
    "# image with mask overlay witout geo-referencing\n",
    "img_masked_path = mask_overlay_image(\n",
    "    os.path.join(DATA_PATH, img_name),\n",
    "    mask_filtered_relabeled_norm,\n",
    "    os.path.join(DATA_PATH, img_masked_name),\n",
    "    mask_opacity=0.5,\n",
    "    overwrite=True,\n",
    ")"
   ]
  },
  {
   "cell_type": "code",
   "execution_count": 62,
   "metadata": {},
   "outputs": [],
   "source": [
    "# image with mask overlay with geo-referencing\n",
    "img_masked_gis_path = geo_ref_raster(\n",
    "    img_masked_path,\n",
    "    os.path.join(DATA_PATH, img_masked_gis_name),\n",
    "    overwrite=True,\n",
    ")"
   ]
  }
 ],
 "metadata": {
  "kernelspec": {
   "display_name": "niceview",
   "language": "python",
   "name": "python3"
  },
  "language_info": {
   "codemirror_mode": {
    "name": "ipython",
    "version": 3
   },
   "file_extension": ".py",
   "mimetype": "text/x-python",
   "name": "python",
   "nbconvert_exporter": "python",
   "pygments_lexer": "ipython3",
   "version": "3.9.0"
  },
  "orig_nbformat": 4
 },
 "nbformat": 4,
 "nbformat_minor": 2
}
