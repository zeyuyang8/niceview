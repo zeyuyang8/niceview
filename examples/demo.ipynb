{
 "cells": [
  {
   "cell_type": "code",
   "execution_count": 2,
   "metadata": {},
   "outputs": [],
   "source": [
    "\"\"\"Demo notebook.\"\"\"\n",
    "\n",
    "import os\n",
    "from niceview.utils.raster import geo_ref_raster, geo_raster_to_meshgrid, index_to_meshgrid_coord\n",
    "from niceview.utils.mask import sparse_npz_to_array, mask_overlay_image\n",
    "from niceview.utils.tools import txt_to_list, select_col_from_name, normalize_log_nonzero_to_range\n",
    "from niceview.utils.cell import get_nuclei_pixels, paint_regions\n",
    "from localtileserver import TileClient, get_leaflet_tile_layer\n",
    "import plotly.graph_objects as go\n",
    "import numpy as np\n",
    "import pandas as pd\n",
    "import scipy"
   ]
  },
  {
   "cell_type": "code",
   "execution_count": null,
   "metadata": {},
   "outputs": [],
   "source": [
    "# configurations\n",
    "DATA_PATH = '../examples/data/'"
   ]
  },
  {
   "cell_type": "code",
   "execution_count": null,
   "metadata": {},
   "outputs": [],
   "source": [
    "####################################################################################################\n",
    "# Part - Mask processing\n",
    "\n",
    "# read data\n",
    "mask = sparse_npz_to_array(os.path.join(DATA_PATH, 'gt-iz-p9-rep2-mask.npz'))\n",
    "cell_pos = pd.read_csv(DATA_PATH + 'gt-iz-p9-rep2-cells-info.csv')[['x', 'y']].values\n",
    "cells_gene = sparse_npz_to_array(os.path.join(DATA_PATH, 'gt-iz-p9-rep2-cells-gene.npz'))\n",
    "gene_names = txt_to_list(os.path.join(DATA_PATH, 'gt-iz-p9-rep2-cells-gene-names.txt'))\n",
    "\n",
    "# get nuclei pixels\n",
    "gene = select_col_from_name(cells_gene, gene_names, 'ENSG00000065534')\n",
    "matched_regions = get_nuclei_pixels(mask, cell_pos)\n",
    "\n",
    "# relabel mask\n",
    "mask_filtered_relabeled = paint_regions(mask.shape, matched_regions, cell_colors_list=gene + 1e-6)\n",
    "mask_filtered_relabeled = scipy.sparse.csr_matrix(mask_filtered_relabeled.data)\n",
    "\n",
    "# save mask\n",
    "scipy.sparse.save_npz(DATA_PATH + 'gt-iz-p9-rep2-mask-filtered-relabeled.npz', mask_filtered_relabeled)"
   ]
  },
  {
   "cell_type": "code",
   "execution_count": null,
   "metadata": {},
   "outputs": [],
   "source": [
    "mask_filtered_relabeled_name = 'gt-iz-p9-rep2-mask-filtered-relabeled.npz'  # variable\n",
    "img_name = 'gt-iz-p9-rep2-img.tiff'  # variable\n",
    "img_gis_name = 'gt-iz-p9-rep2-img-gis.tiff'  # variable\n",
    "img_masked_name = 'gt-iz-p9-rep2-img-masked.png'  # variable\n",
    "img_masked_gis_name = 'gt-iz-p9-rep2-img-masked-gis.tiff'  # variable\n",
    "cell_info_name = 'gt-iz-p9-rep2-cells-info.csv'  # variable"
   ]
  },
  {
   "cell_type": "code",
   "execution_count": null,
   "metadata": {},
   "outputs": [],
   "source": [
    "# load data\n",
    "mask_filtered_relabeled = sparse_npz_to_array(os.path.join(DATA_PATH, mask_filtered_relabeled_name))"
   ]
  },
  {
   "cell_type": "code",
   "execution_count": null,
   "metadata": {},
   "outputs": [],
   "source": [
    "# read data\n",
    "mask = sparse_npz_to_array(os.path.join(DATA_PATH, 'gt-iz-p9-rep2-mask.npz'))\n",
    "cell_pos = pd.read_csv(DATA_PATH + 'gt-iz-p9-rep2-cells-info.csv')[['x', 'y']].values\n",
    "cells_gene = sparse_npz_to_array(os.path.join(DATA_PATH, 'gt-iz-p9-rep2-cells-gene.npz'))\n",
    "gene_names = txt_to_list(os.path.join(DATA_PATH, 'gt-iz-p9-rep2-cells-gene-names.txt'))"
   ]
  }
 ],
 "metadata": {
  "kernelspec": {
   "display_name": "niceview",
   "language": "python",
   "name": "python3"
  },
  "language_info": {
   "codemirror_mode": {
    "name": "ipython",
    "version": 3
   },
   "file_extension": ".py",
   "mimetype": "text/x-python",
   "name": "python",
   "nbconvert_exporter": "python",
   "pygments_lexer": "ipython3",
   "version": "3.9.0"
  },
  "orig_nbformat": 4
 },
 "nbformat": 4,
 "nbformat_minor": 2
}
