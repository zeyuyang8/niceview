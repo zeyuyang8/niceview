{
 "cells": [
  {
   "cell_type": "code",
   "execution_count": 1,
   "metadata": {},
   "outputs": [],
   "source": [
    "\"\"\"Demo notebook.\"\"\"\n",
    "\n",
    "import os\n",
    "from niceview.utils.raster import geo_ref_raster\n",
    "from niceview.utils.mask import sparse_npz_to_array, mask_overlay_image\n",
    "from niceview.utils.tools import txt_to_list, select_col_from_name, normalize_nonzero_to_range\n",
    "from niceview.utils.cell import get_nuclei_pixels, paint_regions\n",
    "import pandas as pd\n",
    "import scipy"
   ]
  },
  {
   "cell_type": "code",
   "execution_count": 2,
   "metadata": {},
   "outputs": [],
   "source": [
    "# configurations\n",
    "DATA_PATH = '../examples/data/'"
   ]
  },
  {
   "cell_type": "code",
   "execution_count": 3,
   "metadata": {},
   "outputs": [],
   "source": [
    "# args\n",
    "file = {\n",
    "    'cells-gene-names': 'gt-iz-p9-rep2-cells-gene-names.txt',\n",
    "    'cells-gene': 'gt-iz-p9-rep2-cells-gene.npz',\n",
    "    'cells-info': 'gt-iz-p9-rep2-cells-info.csv',\n",
    "    'mask': 'gt-iz-p9-rep2-mask.npz',\n",
    "}\n",
    "\n",
    "mask_filtered_relabeled_name = 'gt-iz-p9-rep2-mask-filtered-relabeled.npz'  # variable\n",
    "img_name = 'gt-iz-p9-rep2-img.tiff'  # variable\n",
    "img_gis_name = 'gt-iz-p9-rep2-img-gis.tiff'  # variable\n",
    "img_masked_name = 'gt-iz-p9-rep2-img-masked.png'  # variable\n",
    "img_masked_gis_name = 'gt-iz-p9-rep2-img-masked-gis.tiff'  # variable\n",
    "cell_info_name = 'gt-iz-p9-rep2-cells-info.csv'  # variable\n",
    "\n",
    "selected_gene_id = 'ENSG00000065534'"
   ]
  },
  {
   "cell_type": "code",
   "execution_count": 4,
   "metadata": {},
   "outputs": [],
   "source": [
    "# read data\n",
    "mask = sparse_npz_to_array(os.path.join(DATA_PATH, 'gt-iz-p9-rep2-mask.npz'))\n",
    "cell_pos = pd.read_csv(DATA_PATH + 'gt-iz-p9-rep2-cells-info.csv')[['x', 'y']].values\n",
    "cells_gene = sparse_npz_to_array(os.path.join(DATA_PATH, 'gt-iz-p9-rep2-cells-gene.npz'))\n",
    "gene_names = txt_to_list(os.path.join(DATA_PATH, 'gt-iz-p9-rep2-cells-gene-names.txt'))\n",
    "\n",
    "# get nuclei pixels\n",
    "gene = select_col_from_name(cells_gene, gene_names, selected_gene_id)\n",
    "matched_regions = get_nuclei_pixels(mask, cell_pos)\n",
    "\n",
    "# relabel mask\n",
    "mask_filtered_relabeled = paint_regions(mask.shape, matched_regions, cell_colors_list=gene + 1e-6)\n",
    "mask_filtered_relabeled = scipy.sparse.csr_matrix(mask_filtered_relabeled.data)\n",
    "\n",
    "# save relabeled mask\n",
    "scipy.sparse.save_npz(DATA_PATH + 'gt-iz-p9-rep2-mask-filtered-relabeled.npz', mask_filtered_relabeled)\n",
    "\n",
    "# read relabeled mask\n",
    "mask_filtered_relabeled = sparse_npz_to_array(os.path.join(DATA_PATH, mask_filtered_relabeled_name))\n",
    "\n",
    "# normalize relabeled mask\n",
    "mask_filtered_relabeled_norm = normalize_nonzero_to_range(mask_filtered_relabeled)"
   ]
  },
  {
   "cell_type": "code",
   "execution_count": 65,
   "metadata": {},
   "outputs": [
    {
     "name": "stdout",
     "output_type": "stream",
     "text": [
      "File ../examples/data/gt-iz-p9-rep2-img-gis.tiff already exists.\n",
      "File ../examples/data/gt-iz-p9-rep2-img-masked.png already exists.\n",
      "File ../examples/data/gt-iz-p9-rep2-img-masked-gis.tiff already exists.\n"
     ]
    }
   ],
   "source": [
    "# image gis\n",
    "img_gis_path = geo_ref_raster(\n",
    "    os.path.join(DATA_PATH, img_name),\n",
    "    os.path.join(DATA_PATH, img_gis_name),\n",
    "    overwrite=False,\n",
    ")\n",
    "\n",
    "# image with mask overlay witout geo-referencing\n",
    "img_masked_path = mask_overlay_image(\n",
    "    os.path.join(DATA_PATH, img_name),\n",
    "    mask_filtered_relabeled_norm,\n",
    "    os.path.join(DATA_PATH, img_masked_name),\n",
    "    mask_opacity=0.5,\n",
    "    colormap='jet',\n",
    "    overwrite=False,\n",
    ")\n",
    "\n",
    "# image with mask overlay with geo-referencing\n",
    "img_masked_gis_path = geo_ref_raster(\n",
    "    img_masked_path,\n",
    "    os.path.join(DATA_PATH, img_masked_gis_name),\n",
    "    overwrite=False,\n",
    ")"
   ]
  },
  {
   "cell_type": "code",
   "execution_count": null,
   "metadata": {},
   "outputs": [],
   "source": []
  }
 ],
 "metadata": {
  "kernelspec": {
   "display_name": "niceview",
   "language": "python",
   "name": "python3"
  },
  "language_info": {
   "codemirror_mode": {
    "name": "ipython",
    "version": 3
   },
   "file_extension": ".py",
   "mimetype": "text/x-python",
   "name": "python",
   "nbconvert_exporter": "python",
   "pygments_lexer": "ipython3",
   "version": "3.9.0"
  },
  "orig_nbformat": 4
 },
 "nbformat": 4,
 "nbformat_minor": 2
}
