{
 "cells": [
  {
   "cell_type": "markdown",
   "metadata": {},
   "source": [
    "## Solution notebook"
   ]
  },
  {
   "cell_type": "markdown",
   "metadata": {},
   "source": [
    "### Imports, constants, and helper functions"
   ]
  },
  {
   "cell_type": "code",
   "execution_count": 1,
   "metadata": {},
   "outputs": [],
   "source": [
    "\"\"\"Solution notebook.\"\"\"\n",
    "\n",
    "import os\n",
    "from localtileserver import TileClient, get_leaflet_tile_layer\n",
    "import plotly.graph_objects as go\n",
    "from niceview.utils.raster import geo_ref_raster, geo_raster_to_meshgrid, index_to_meshgrid_coord\n",
    "from niceview.utils.tools import txt_to_list, select_col_from_name\n",
    "from niceview.utils.cell import get_nuclei_pixels, paint_regions\n",
    "import pandas as pd\n",
    "import numpy as np\n",
    "from scipy.sparse import load_npz\n",
    "import cv2"
   ]
  },
  {
   "cell_type": "code",
   "execution_count": 2,
   "metadata": {},
   "outputs": [],
   "source": [
    "# configurations\n",
    "DATA_PATH = '../examples/data/'\n",
    "PLOTS_PATH = '../examples/plots/'\n",
    "\n",
    "RELATION = {\n",
    "    'pericyte': 1,\n",
    "    'neuronal receptor cell': 2,\n",
    "    'native cell': 3,\n",
    "    'smooth muscle myoblast': 4,\n",
    "    'immature innate lymphoid cell': 5,\n",
    "    'cardiac endothelial cell': 6,\n",
    "    'cardiac muscle myoblast': 7,\n",
    "    'fibroblast of cardiac tissue': 8,\n",
    "}\n",
    "\n",
    "HEX_PALETTE = {\n",
    "    1: '#d5a567',\n",
    "    2: '#be6ca7',\n",
    "    3: '#91d1e0',\n",
    "    4: '#8bc060',\n",
    "    5: '#879dcf',\n",
    "    6: '#1d8942',\n",
    "    7: '#253166',\n",
    "    8: '#853087',\n",
    "}"
   ]
  },
  {
   "cell_type": "code",
   "execution_count": 3,
   "metadata": {},
   "outputs": [],
   "source": [
    "# args\n",
    "id = 'gt-iz-p9-rep2'\n",
    "cells_selected_gene_name = 'ENSG00000065534'\n",
    "spots_selected_gene_name = 'ENSG00000037280'"
   ]
  },
  {
   "cell_type": "code",
   "execution_count": 4,
   "metadata": {},
   "outputs": [],
   "source": [
    "# standardize the data\n",
    "file = {\n",
    "    'cells-gene-names': '-'.join([id, 'cells-gene-names.txt']),\n",
    "    'cells-gene': '-'.join([id, 'cells-gene.npz']),\n",
    "    'cells-info': '-'.join([id, 'cells-info.csv']),\n",
    "    'img': '-'.join([id, 'img.tiff']),\n",
    "    'mask-filtered-relabeled': '-'.join([id, 'mask-filtered-relabeled.npz']),\n",
    "    'mask': '-'.join([id, 'mask.npz']),\n",
    "    'spots-gene-names': '-'.join([id, 'spots-gene-names.txt']),\n",
    "    'spots-gene': '-'.join([id, 'spots-gene.npz']),\n",
    "    'spots-info': '-'.join([id, 'spots-info.csv']),\n",
    "}"
   ]
  },
  {
   "cell_type": "code",
   "execution_count": 5,
   "metadata": {},
   "outputs": [],
   "source": [
    "# intermediete files - TODO: to be improved\n",
    "cache = {\n",
    "    'blend-cells-gene': '-'.join([id, 'blend-cells-gene.png']),\n",
    "    'blend-cells-type': '-'.join([id, 'blend-cells-type.png']),\n",
    "    'blend-spots-gene': '-'.join([id, 'blend-spots-gene.png']),\n",
    "    'mask-cells-type': '-'.join([id, 'mask-cells-type.png']),\n",
    "    'mask-cells-gene': '-'.join([id, 'mask-cells-gene.png']),\n",
    "    'spots-gene': '-'.join([id, 'spots-gene.png']),\n",
    "}"
   ]
  },
  {
   "cell_type": "code",
   "execution_count": 6,
   "metadata": {},
   "outputs": [],
   "source": [
    "# helper functions\n",
    "def normalize_array(arr, new_min, new_max):\n",
    "    min_val = np.min(arr)\n",
    "    max_val = np.max(arr)\n",
    "    normalized_arr = (arr - min_val) / (max_val - min_val) * (new_max - new_min) + new_min\n",
    "    return normalized_arr\n",
    "\n",
    "def mask_filter_relabel(mask_path, matched_regions, labels):\n",
    "    mask = load_npz(mask_path)\n",
    "    mask = mask.tocsr()[:, :].todense()\n",
    "    # TODO: increase speed of `paint_regions`\n",
    "    mask_filtered_relabeled = paint_regions(mask.shape, matched_regions, cell_colors_list=labels)\n",
    "    return mask_filtered_relabeled.data\n",
    "\n",
    "def hex_to_rgb(hex_color):\n",
    "    # Remove the '#' symbol if it's present\n",
    "    if hex_color.startswith(\"#\"):\n",
    "        hex_color = hex_color[1:]\n",
    "\n",
    "    # Convert each pair from hexadecimal to decimal\n",
    "    r = int(hex_color[0:2], 16)\n",
    "    g = int(hex_color[2:4], 16)\n",
    "    b = int(hex_color[4:6], 16)\n",
    "\n",
    "    # Return the RGB values as a tuple\n",
    "    return (r, g, b)\n",
    "\n",
    "def discrete_cmap_from_hex(id_to_hex_dict):\n",
    "    rgb_cmap = {k: hex_to_rgb(v) for k, v in id_to_hex_dict.items()}\n",
    "    rgb_cmap = np.array([rgb_cmap[i] for i in range(1, len(rgb_cmap) + 1)])\n",
    "    return rgb_cmap\n",
    "\n",
    "def apply_custom_cmap(img_gray, cmap):\n",
    "    lut = np.zeros((256, 1, 3), dtype=np.uint8)\n",
    "    # rgb\n",
    "    lut[1: len(cmap) + 1, 0, 0] = cmap[:, 0]\n",
    "    lut[1: len(cmap) + 1, 0, 1] = cmap[:, 1]\n",
    "    lut[1: len(cmap) + 1, 0, 2] = cmap[:, 2]\n",
    "    # apply\n",
    "    img_rgb = cv2.LUT(img_gray, lut)\n",
    "    return img_rgb\n",
    "\n",
    "def mask_to_image(mask, cmap):\n",
    "    if isinstance(cmap, int):\n",
    "        # TODO: increase speed of the following three lines, as they are \"overlapping\"\n",
    "        img_rgb = cv2.cvtColor(mask.astype(np.uint8), cv2.COLOR_BGR2RGB)\n",
    "        img_rgb = cv2.applyColorMap(img_rgb, cmap)\n",
    "        img_rgb = cv2.bitwise_and(img_rgb, img_rgb, mask=mask.astype(np.uint8))\n",
    "    else:\n",
    "        img_gray = cv2.cvtColor(mask.astype(np.uint8), cv2.COLOR_GRAY2BGR)\n",
    "        img_rgb = apply_custom_cmap(img_gray, cmap)\n",
    "    return img_rgb\n",
    "\n",
    "def draw_circles(img_shape, centers, diameter, colors, cmap=cv2.COLORMAP_JET, thickness=-1):\n",
    "    # black background\n",
    "    canvas = np.zeros((img_shape[0], img_shape[1], 3))\n",
    "    \n",
    "    # color\n",
    "    if isinstance(cmap, int):\n",
    "        colors = cv2.cvtColor(colors.astype(np.uint8), cv2.COLOR_BGR2RGB)\n",
    "        colors = cv2.applyColorMap(colors, cv2.COLORMAP_JET)\n",
    "        colors = np.reshape(colors, (-1, 3))\n",
    "    else:\n",
    "        colors = cv2.cvtColor(colors.astype(np.uint8), cv2.COLOR_BGR2RGB)\n",
    "        colors = apply_custom_cmap(colors, cmap)\n",
    "        colors = np.reshape(colors, (-1, 3))\n",
    "\n",
    "    # set diameter\n",
    "    if isinstance(diameter, int):\n",
    "        diameter = [diameter] * len(centers)\n",
    "    \n",
    "    # draw circles\n",
    "    for center, d, color in zip(centers, diameter, colors):\n",
    "        color = tuple(map(int, color))  # convert elements to int\n",
    "        center = np.round(center).astype('int')\n",
    "        radius = np.round(d / 2).astype('int')\n",
    "        cv2.circle(canvas, center, radius, color, thickness)\n",
    "    return canvas\n",
    "\n",
    "# TODO: speed up `blend`\n",
    "def blend(img_path, mask_path, mask_opacity):\n",
    "    mask_img = cv2.imread(mask_path)\n",
    "    bkgd_img = cv2.imread(img_path)\n",
    "    \n",
    "    # blend part of background\n",
    "    mask = cv2.cvtColor(mask_img, cv2.COLOR_BGR2GRAY)\n",
    "    bkgd_blend = cv2.bitwise_and(bkgd_img, bkgd_img, mask=mask)\n",
    "    \n",
    "    # non-blend part of background\n",
    "    inv_mask = (mask == 0).astype(np.uint8)\n",
    "    bkgd_non_blend = cv2.bitwise_and(bkgd_img, bkgd_img, mask=inv_mask)\n",
    "    \n",
    "    mask_ovelay = cv2.addWeighted(mask_img, mask_opacity, bkgd_blend, 1.0 - mask_opacity, 0)\n",
    "    whole_img = cv2.addWeighted(mask_ovelay, 1.0, bkgd_non_blend, 1.0, 0)\n",
    "    return whole_img"
   ]
  },
  {
   "cell_type": "markdown",
   "metadata": {},
   "source": [
    "### Cell analysis"
   ]
  },
  {
   "cell_type": "code",
   "execution_count": 7,
   "metadata": {},
   "outputs": [],
   "source": [
    "# cells info\n",
    "cells_info = pd.read_csv(os.path.join(DATA_PATH, file['cells-info']))\n",
    "cells_pos = cells_info[['x', 'y']].values\n",
    "cells_type = cells_info['label'].values\n",
    "cells_type_id = list(map(lambda x: RELATION[x], cells_type))\n",
    "cells_gene = load_npz(os.path.join(DATA_PATH, file['cells-gene']))  # scipy.sparse.csr.csr_matrix\n",
    "cells_gene_names = txt_to_list(os.path.join(DATA_PATH, file['cells-gene-names']))\n",
    "cells_selected_gene = select_col_from_name(cells_gene, cells_gene_names, cells_selected_gene_name)\n",
    "cells_selected_gene_normalized = normalize_array(cells_selected_gene, 1, 255)  # set min as 1 otherwise mask and background cannot be blended"
   ]
  },
  {
   "cell_type": "code",
   "execution_count": 8,
   "metadata": {},
   "outputs": [],
   "source": [
    "# TODO: increase speed of `get_nuclei_pixels`\n",
    "cells_matched_regions = get_nuclei_pixels(\n",
    "    load_npz(os.path.join(DATA_PATH, file['mask'])).tocsr()[:, :].todense(),\n",
    "    cells_pos,\n",
    ")"
   ]
  },
  {
   "cell_type": "code",
   "execution_count": 9,
   "metadata": {},
   "outputs": [],
   "source": [
    "# relabel mask by normalized gene expression\n",
    "mask_by_cells_gene_norm = mask_filter_relabel(\n",
    "    os.path.join(DATA_PATH, file['mask']),\n",
    "    cells_matched_regions,\n",
    "    cells_selected_gene_normalized,\n",
    ")"
   ]
  },
  {
   "cell_type": "code",
   "execution_count": 10,
   "metadata": {},
   "outputs": [],
   "source": [
    "# relabel mask by cell type\n",
    "mask_by_cells_type = mask_filter_relabel(\n",
    "    os.path.join(DATA_PATH, file['mask']),\n",
    "    cells_matched_regions,\n",
    "    cells_type_id,\n",
    ")"
   ]
  },
  {
   "cell_type": "code",
   "execution_count": 11,
   "metadata": {},
   "outputs": [],
   "source": [
    "# save mask by cells gene\n",
    "_ = cv2.imwrite(\n",
    "    os.path.join(PLOTS_PATH, cache['mask-cells-gene']),\n",
    "    mask_to_image(mask_by_cells_gene_norm, cv2.COLORMAP_JET),\n",
    ")"
   ]
  },
  {
   "cell_type": "code",
   "execution_count": 12,
   "metadata": {},
   "outputs": [],
   "source": [
    "# save mask by cells type\n",
    "_ = cv2.imwrite(\n",
    "    os.path.join(PLOTS_PATH, cache['mask-cells-type']),\n",
    "    mask_to_image(mask_by_cells_type, discrete_cmap_from_hex(HEX_PALETTE)),\n",
    ")"
   ]
  },
  {
   "cell_type": "code",
   "execution_count": 13,
   "metadata": {},
   "outputs": [],
   "source": [
    "# save blend image by cells type\n",
    "_ = cv2.imwrite(\n",
    "    os.path.join(PLOTS_PATH, cache['blend-cells-type']),\n",
    "    blend(\n",
    "        os.path.join(DATA_PATH, file['img']),\n",
    "        os.path.join(PLOTS_PATH, cache['mask-cells-type']),\n",
    "        1.0,\n",
    "    ),\n",
    ")"
   ]
  },
  {
   "cell_type": "code",
   "execution_count": 14,
   "metadata": {},
   "outputs": [],
   "source": [
    "# save blend image by cells gene\n",
    "_ = cv2.imwrite(\n",
    "    os.path.join(PLOTS_PATH, cache['blend-cells-gene']),\n",
    "    blend(\n",
    "        os.path.join(DATA_PATH, file['img']),\n",
    "        os.path.join(PLOTS_PATH, cache['mask-cells-gene']),\n",
    "        1.0,\n",
    "    ),\n",
    ")"
   ]
  },
  {
   "cell_type": "markdown",
   "metadata": {},
   "source": [
    "### Spot analysis"
   ]
  },
  {
   "cell_type": "code",
   "execution_count": 15,
   "metadata": {},
   "outputs": [],
   "source": [
    "# spots info\n",
    "spots_info = pd.read_csv(os.path.join(DATA_PATH, file['spots-info']))\n",
    "spots_pos = spots_info[['x', 'y']].values\n",
    "spots_diameter = spots_info['diameter'].values\n",
    "spots_gene = load_npz(os.path.join(DATA_PATH, file['spots-gene']))  # scipy.sparse.csr.csr_matrix\n",
    "spots_gene_names = txt_to_list(os.path.join(DATA_PATH, file['spots-gene-names']))\n",
    "spots_selected_gene = select_col_from_name(spots_gene, spots_gene_names, spots_selected_gene_name)\n",
    "spots_selected_gene_normalized = normalize_array(spots_selected_gene, 1, 255)  # set min as 1 otherwise mask and background cannot be blended"
   ]
  },
  {
   "cell_type": "code",
   "execution_count": 16,
   "metadata": {},
   "outputs": [],
   "source": [
    "# get image shape\n",
    "img_shape = load_npz(os.path.join(DATA_PATH, file['mask'])).shape"
   ]
  },
  {
   "cell_type": "code",
   "execution_count": 17,
   "metadata": {},
   "outputs": [],
   "source": [
    "# save spots\n",
    "_ = cv2.imwrite(\n",
    "    os.path.join(PLOTS_PATH, cache['spots-gene']),\n",
    "    draw_circles(\n",
    "        img_shape,\n",
    "        spots_pos,\n",
    "        spots_diameter,\n",
    "        spots_selected_gene_normalized,\n",
    "        cmap=cv2.COLORMAP_JET,\n",
    "        thickness=1,\n",
    "    ),\n",
    ")"
   ]
  },
  {
   "cell_type": "code",
   "execution_count": 18,
   "metadata": {},
   "outputs": [],
   "source": [
    "# save blend spots\n",
    "_ = cv2.imwrite(\n",
    "    os.path.join(PLOTS_PATH, cache['blend-spots-gene']),\n",
    "    blend(\n",
    "        os.path.join(DATA_PATH, file['img']),\n",
    "        os.path.join(PLOTS_PATH, cache['spots-gene']),\n",
    "        1.0,\n",
    "    ),\n",
    ")"
   ]
  },
  {
   "cell_type": "markdown",
   "metadata": {},
   "source": [
    "### Plotting"
   ]
  },
  {
   "cell_type": "code",
   "execution_count": 19,
   "metadata": {},
   "outputs": [],
   "source": [
    "# fixed zoom range (control margin of geoplot)"
   ]
  }
 ],
 "metadata": {
  "kernelspec": {
   "display_name": "niceview",
   "language": "python",
   "name": "python3"
  },
  "language_info": {
   "codemirror_mode": {
    "name": "ipython",
    "version": 3
   },
   "file_extension": ".py",
   "mimetype": "text/x-python",
   "name": "python",
   "nbconvert_exporter": "python",
   "pygments_lexer": "ipython3",
   "version": "3.9.0"
  },
  "orig_nbformat": 4
 },
 "nbformat": 4,
 "nbformat_minor": 2
}
