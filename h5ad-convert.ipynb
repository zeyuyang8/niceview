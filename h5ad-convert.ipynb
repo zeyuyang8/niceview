{
 "cells": [
  {
   "cell_type": "code",
   "execution_count": 1,
   "metadata": {},
   "outputs": [],
   "source": [
    "import os\n",
    "import toml\n",
    "from niceview.utils.convert import h5ad_converter, delete_sample"
   ]
  },
  {
   "cell_type": "code",
   "execution_count": 2,
   "metadata": {},
   "outputs": [],
   "source": [
    "config = toml.load('user/config.toml')\n",
    "data_path = config['path']['data']\n",
    "db_info_path = os.path.join(config['path']['db'], 'db-info.json')\n",
    "sample_id = 'gt-iz-p9-rep3'\n",
    "wsi = os.path.join(data_path, 'gt-iz-p9-rep2-wsi-img.tiff')\n",
    "h5ad_cell = os.path.join(data_path, 'gt-iz-p9-rep2-cell.h5ad')\n",
    "h5ad_spot = os.path.join(data_path, 'gt-iz-p9-rep2-spot.h5ad')\n",
    "cell_mask = os.path.join(data_path, 'gt-iz-p9-rep2-cell-mask.npz')"
   ]
  },
  {
   "cell_type": "code",
   "execution_count": 6,
   "metadata": {},
   "outputs": [],
   "source": [
    "h5ad_converter(\n",
    "    data_path, db_info_path, sample_id, \n",
    "    wsi, h5ad_cell, h5ad_spot, cell_mask,\n",
    ")"
   ]
  },
  {
   "cell_type": "code",
   "execution_count": 3,
   "metadata": {},
   "outputs": [],
   "source": [
    "delete_sample(data_path, db_info_path, sample_id)"
   ]
  },
  {
   "cell_type": "code",
   "execution_count": null,
   "metadata": {},
   "outputs": [],
   "source": []
  }
 ],
 "metadata": {
  "kernelspec": {
   "display_name": "niceview",
   "language": "python",
   "name": "python3"
  },
  "language_info": {
   "codemirror_mode": {
    "name": "ipython",
    "version": 3
   },
   "file_extension": ".py",
   "mimetype": "text/x-python",
   "name": "python",
   "nbconvert_exporter": "python",
   "pygments_lexer": "ipython3",
   "version": "3.9.0"
  },
  "orig_nbformat": 4
 },
 "nbformat": 4,
 "nbformat_minor": 2
}
