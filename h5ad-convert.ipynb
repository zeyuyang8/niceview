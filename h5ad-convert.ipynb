{
 "cells": [
  {
   "cell_type": "code",
   "execution_count": 1,
   "metadata": {},
   "outputs": [],
   "source": [
    "import os\n",
    "import toml\n",
    "from niceview.utils.convert import h5ad_converter"
   ]
  },
  {
   "cell_type": "code",
   "execution_count": 2,
   "metadata": {},
   "outputs": [],
   "source": [
    "config = toml.load('user/config.toml')\n",
    "data_path = config['path']['data']\n",
    "db_info_path = os.path.join(config['path']['db'], 'db-info.json')\n",
    "sample_id = 'gt-iz-p9-rep2'\n",
    "h5ad_cell = os.path.join(data_path, 'gt-iz-p9-rep2-cell.h5ad')\n",
    "h5ad_spot = os.path.join(data_path, 'gt-iz-p9-rep2-spot.h5ad')\n",
    "cell_mask = os.path.join(data_path, 'gt-iz-p9-rep2-cell-mask.txt')"
   ]
  },
  {
   "cell_type": "code",
   "execution_count": 3,
   "metadata": {},
   "outputs": [
    {
     "ename": "ValueError",
     "evalue": "sample id already exists in database.",
     "output_type": "error",
     "traceback": [
      "\u001b[0;31m---------------------------------------------------------------------------\u001b[0m",
      "\u001b[0;31mValueError\u001b[0m                                Traceback (most recent call last)",
      "\u001b[1;32m/home/tom/github/niceview/h5ad-convert.ipynb Cell 3\u001b[0m line \u001b[0;36m1\n\u001b[0;32m----> <a href='vscode-notebook-cell://wsl%2Bubuntu/home/tom/github/niceview/h5ad-convert.ipynb#X30sdnNjb2RlLXJlbW90ZQ%3D%3D?line=0'>1</a>\u001b[0m h5ad_converter(\n\u001b[1;32m      <a href='vscode-notebook-cell://wsl%2Bubuntu/home/tom/github/niceview/h5ad-convert.ipynb#X30sdnNjb2RlLXJlbW90ZQ%3D%3D?line=1'>2</a>\u001b[0m     data_path, db_info_path, sample_id, h5ad_cell, h5ad_spot, cell_mask\n\u001b[1;32m      <a href='vscode-notebook-cell://wsl%2Bubuntu/home/tom/github/niceview/h5ad-convert.ipynb#X30sdnNjb2RlLXJlbW90ZQ%3D%3D?line=2'>3</a>\u001b[0m )\n",
      "File \u001b[0;32m~/github/niceview/niceview/utils/convert.py:42\u001b[0m, in \u001b[0;36mh5ad_converter\u001b[0;34m(data_path, db_info_path, sample_id, h5ad_cell, h5ad_spot, cell_mask, delete_original)\u001b[0m\n\u001b[1;32m     40\u001b[0m         json\u001b[39m.\u001b[39mdump(db_info, json_file)\n\u001b[1;32m     41\u001b[0m \u001b[39melse\u001b[39;00m:\n\u001b[0;32m---> 42\u001b[0m     \u001b[39mraise\u001b[39;00m \u001b[39mValueError\u001b[39;00m(\u001b[39m'\u001b[39m\u001b[39msample id already exists in database.\u001b[39m\u001b[39m'\u001b[39m)\n\u001b[1;32m     44\u001b[0m data_extension \u001b[39m=\u001b[39m db_info[\u001b[39m'\u001b[39m\u001b[39mdata_extension\u001b[39m\u001b[39m'\u001b[39m]\n\u001b[1;32m     45\u001b[0m data_file_names \u001b[39m=\u001b[39m {}\n",
      "\u001b[0;31mValueError\u001b[0m: sample id already exists in database."
     ]
    }
   ],
   "source": [
    "h5ad_converter(\n",
    "    data_path, db_info_path, sample_id, h5ad_cell, h5ad_spot, cell_mask,\n",
    ")"
   ]
  },
  {
   "cell_type": "code",
   "execution_count": null,
   "metadata": {},
   "outputs": [],
   "source": []
  }
 ],
 "metadata": {
  "kernelspec": {
   "display_name": "niceview",
   "language": "python",
   "name": "python3"
  },
  "language_info": {
   "codemirror_mode": {
    "name": "ipython",
    "version": 3
   },
   "file_extension": ".py",
   "mimetype": "text/x-python",
   "name": "python",
   "nbconvert_exporter": "python",
   "pygments_lexer": "ipython3",
   "version": "3.9.0"
  },
  "orig_nbformat": 4
 },
 "nbformat": 4,
 "nbformat_minor": 2
}
