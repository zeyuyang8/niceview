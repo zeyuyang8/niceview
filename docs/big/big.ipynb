{
 "cells": [
  {
   "cell_type": "code",
   "execution_count": 24,
   "metadata": {},
   "outputs": [],
   "source": [
    "import os\n",
    "from niceview.utils.convert import h5ad_converter, delete_sample\n",
    "import cv2\n",
    "import numpy as np\n",
    "from scipy import ndimage\n",
    "import scipy\n",
    "from niceview.utils.tools import mask_to_image\n",
    "import scanpy as sc\n",
    "import pandas as pd\n",
    "from niceview.utils.cell import get_nuclei_pixels\n",
    "from scipy.sparse import load_npz"
   ]
  },
  {
   "cell_type": "code",
   "execution_count": null,
   "metadata": {},
   "outputs": [],
   "source": [
    "def process_data(img_path, mask_path, adata_path):\n",
    "    \"\"\"Process data for big image.\n",
    "    \n",
    "    Args:\n",
    "        img_path (str): Path to image.\n",
    "        mask_path (str): Path to mask.\n",
    "        adata_path (str): Path to adata.\n",
    "    \"\"\"\n",
    "    img = cv2.imread(img_path)\n",
    "    height, width, _ = img.shape\n",
    "    max_dim = max(height, width)\n",
    "    \n",
    "    if max_dim < 10000:\n",
    "        return None\n",
    "    \n",
    "    # calculate resize factor\n",
    "    resize_factor = 10000 / max_dim\n",
    "    resized_img = cv2.resize(img, (int(width * resize_factor), int(height * resize_factor)))\n",
    "    \n",
    "    # read mask\n",
    "    mask = np.array(load_npz(mask_path).todense())\n",
    "    original_shape = mask.shape\n",
    "    target_shape = (int(height * resize_factor), int(width * resize_factor))  # (height, width) in numpy format\n",
    "\n",
    "    # resize mask array\n",
    "    resized_mask = ndimage.zoom(\n",
    "        mask, (target_shape[0] / original_shape[0], target_shape[1] / original_shape[1]), order=0,\n",
    "    )\n",
    "    \n",
    "    # resize adata\n",
    "    adata = sc.read_h5ad(adata_path)\n",
    "    adata.obsm['spatial'] = adata.obsm['spatial'] * resize_factor\n",
    "    \n",
    "    # write data\n",
    "    cv2.imwrite('temp.png', resized_img)\n",
    "    scipy.sparse.save_npz('temp.npz', scipy.sparse.csr_matrix(resized_mask))\n",
    "    adata.write('temp.h5ad')"
   ]
  },
  {
   "cell_type": "code",
   "execution_count": null,
   "metadata": {},
   "outputs": [],
   "source": [
    "# process_data('test.tiff', 'test.npz', 'test.h5ad')  # 40 seconds"
   ]
  },
  {
   "cell_type": "code",
   "execution_count": null,
   "metadata": {},
   "outputs": [],
   "source": [
    "# then move temp files to data path and then run the following code"
   ]
  },
  {
   "cell_type": "code",
   "execution_count": 10,
   "metadata": {},
   "outputs": [],
   "source": [
    "data_path = 'c:/Users/zeyuy/Dropbox/academy/github/niceview/db/data/'\n",
    "db_info_path = 'c:/Users/zeyuy/Dropbox/academy/github/niceview/db/db-info.json'\n",
    "cache_path = 'c:/Users/zeyuy/Dropbox/academy/github/niceview/db/cache/'\n",
    "sample_id = 'big-fella'\n",
    "wsi = os.path.join(data_path, 'temp.png')\n",
    "h5ad_cell = os.path.join(data_path, 'temp.h5ad')\n",
    "cell_mask = os.path.join(data_path, 'temp.npz')"
   ]
  },
  {
   "cell_type": "code",
   "execution_count": 7,
   "metadata": {},
   "outputs": [
    {
     "name": "stdout",
     "output_type": "stream",
     "text": [
      "deleted file: c:/Users/zeyuy/Dropbox/academy/github/niceview/db/data/big-fella-wsi-img.tiff\n"
     ]
    }
   ],
   "source": [
    "delete_sample(data_path, db_info_path, sample_id)"
   ]
  },
  {
   "cell_type": "code",
   "execution_count": 8,
   "metadata": {},
   "outputs": [],
   "source": [
    "# h5ad_converter(\n",
    "#     data_path, db_info_path, sample_id, \n",
    "#     wsi, h5ad_cell, None, cell_mask, None,\n",
    "# )\n",
    "# 60 seconds"
   ]
  },
  {
   "cell_type": "code",
   "execution_count": null,
   "metadata": {},
   "outputs": [],
   "source": []
  }
 ],
 "metadata": {
  "kernelspec": {
   "display_name": "view",
   "language": "python",
   "name": "python3"
  },
  "language_info": {
   "codemirror_mode": {
    "name": "ipython",
    "version": 3
   },
   "file_extension": ".py",
   "mimetype": "text/x-python",
   "name": "python",
   "nbconvert_exporter": "python",
   "pygments_lexer": "ipython3",
   "version": "3.9.0"
  },
  "orig_nbformat": 4
 },
 "nbformat": 4,
 "nbformat_minor": 2
}
