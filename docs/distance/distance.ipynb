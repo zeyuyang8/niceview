{
 "cells": [
  {
   "cell_type": "code",
   "execution_count": 38,
   "metadata": {},
   "outputs": [],
   "source": [
    "import rasterio\n",
    "from pyproj import Geod"
   ]
  },
  {
   "cell_type": "code",
   "execution_count": 39,
   "metadata": {},
   "outputs": [],
   "source": [
    "with rasterio.open('/home/tom/github/niceview/db/cache/gt-iz-p9-rep2-gis-wsi-img.tiff') as src:\n",
    "    crs = src.crs\n",
    "    transform = src.transform"
   ]
  },
  {
   "cell_type": "code",
   "execution_count": 52,
   "metadata": {},
   "outputs": [],
   "source": [
    "lat1, lon1 = src.xy(0, 0)\n",
    "lat2, lon2 = src.xy(0, 1)\n",
    "lat3, lon3 = src.xy(1, 0)\n",
    "lat4, lon4 = src.xy(1, 1)"
   ]
  },
  {
   "cell_type": "code",
   "execution_count": 42,
   "metadata": {},
   "outputs": [
    {
     "name": "stdout",
     "output_type": "stream",
     "text": [
      "4164192.708\n"
     ]
    }
   ],
   "source": [
    "g = Geod(ellps='clrk66') # Use Clarke 1866 ellipsoid.\n",
    "# specify the lat/lons of some cities.\n",
    "boston_lat = 42.+(15./60.); boston_lon = -71.-(7./60.)\n",
    "portland_lat = 45.+(31./60.); portland_lon = -123.-(41./60.)\n",
    "newyork_lat = 40.+(47./60.); newyork_lon = -73.-(58./60.)\n",
    "london_lat = 51.+(32./60.); london_lon = -(5./60.)\n",
    "# compute forward and back azimuths, plus distance\n",
    "# between Boston and Portland.\n",
    "_, _, dist = g.inv(boston_lon, boston_lat, portland_lon, portland_lat)\n",
    "print(f'{dist:.3f}')  # in meters"
   ]
  },
  {
   "cell_type": "code",
   "execution_count": 51,
   "metadata": {},
   "outputs": [
    {
     "name": "stdout",
     "output_type": "stream",
     "text": [
      "0.0990677720274211748296977475547464564442634582519531250000000000\n"
     ]
    }
   ],
   "source": [
    "_, _, dist = g.inv(lon1, lat1, lon2, lat2)\n",
    "print(f'{dist:.64f}')"
   ]
  },
  {
   "cell_type": "code",
   "execution_count": 63,
   "metadata": {},
   "outputs": [
    {
     "name": "stdout",
     "output_type": "stream",
     "text": [
      "0.0990677720274211748296977475547464564442634582519531250000000000\n"
     ]
    }
   ],
   "source": [
    "_, _, dist = g.inv(lon3, lat3, lon4, lat4)\n",
    "print(f'{dist:.64f}')"
   ]
  },
  {
   "cell_type": "code",
   "execution_count": 64,
   "metadata": {},
   "outputs": [],
   "source": [
    "actual_distance = 1e-6"
   ]
  },
  {
   "cell_type": "code",
   "execution_count": 71,
   "metadata": {},
   "outputs": [],
   "source": [
    "factor = actual_distance / dist  # factor in meters"
   ]
  },
  {
   "cell_type": "code",
   "execution_count": 72,
   "metadata": {},
   "outputs": [
    {
     "data": {
      "text/plain": [
       "10.094100024003849"
      ]
     },
     "execution_count": 72,
     "metadata": {},
     "output_type": "execute_result"
    }
   ],
   "source": [
    "factor * 10 ** 6  # first convert to meter then convert to micrometer"
   ]
  },
  {
   "cell_type": "code",
   "execution_count": 66,
   "metadata": {},
   "outputs": [],
   "source": [
    "t = dist * factor"
   ]
  },
  {
   "cell_type": "code",
   "execution_count": 67,
   "metadata": {},
   "outputs": [
    {
     "data": {
      "text/plain": [
       "1e-06"
      ]
     },
     "execution_count": 67,
     "metadata": {},
     "output_type": "execute_result"
    }
   ],
   "source": [
    "t"
   ]
  },
  {
   "cell_type": "code",
   "execution_count": 68,
   "metadata": {},
   "outputs": [
    {
     "data": {
      "text/plain": [
       "1.0094100024003849e-05"
      ]
     },
     "execution_count": 68,
     "metadata": {},
     "output_type": "execute_result"
    }
   ],
   "source": [
    "factor"
   ]
  },
  {
   "cell_type": "code",
   "execution_count": null,
   "metadata": {},
   "outputs": [],
   "source": []
  }
 ],
 "metadata": {
  "kernelspec": {
   "display_name": "niceview",
   "language": "python",
   "name": "python3"
  },
  "language_info": {
   "codemirror_mode": {
    "name": "ipython",
    "version": 3
   },
   "file_extension": ".py",
   "mimetype": "text/x-python",
   "name": "python",
   "nbconvert_exporter": "python",
   "pygments_lexer": "ipython3",
   "version": "3.9.0"
  },
  "orig_nbformat": 4
 },
 "nbformat": 4,
 "nbformat_minor": 2
}
