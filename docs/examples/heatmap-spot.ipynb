{
 "cells": [
  {
   "cell_type": "code",
   "execution_count": 1,
   "metadata": {},
   "outputs": [],
   "source": [
    "\"\"\"Heatmap.\"\"\"\n",
    "\n",
    "import matplotlib.pyplot as plt\n",
    "import pandas as pd\n",
    "import numpy as np\n",
    "import cv2\n",
    "from scipy.sparse import load_npz\n",
    "from niceview.utils.tools import txt_to_list, select_col_from_name, normalize_array"
   ]
  },
  {
   "cell_type": "code",
   "execution_count": 2,
   "metadata": {},
   "outputs": [],
   "source": [
    "def heatmap():\n",
    "    \"\"\"Plot heatmap.\n",
    "\n",
    "    Args:\n",
    "        scores (np.ndarray): 1D array of scores of shape (N,). \n",
    "        coords (np.ndarray): 2D array of coordinates of shape (N, 2).\n",
    "        patch_size (int): predefined size of the patch.\n",
    "    \"\"\"\n",
    "    # image size in (width x, height y)\n",
    "    # patch size\n",
    "    # coordinates of the patch centers\n",
    "    # normalize scores\n",
    "    # heatmap overlay: tracks attention score over each pixel of heatmap\n",
    "    # overlay counter: tracks number of times each pixel is visited\n",
    "    # average heatmap: heatmap overlay / overlay counter (only for non-zero counter)\n",
    "    # blur heatmap\n",
    "    pass"
   ]
  },
  {
   "cell_type": "code",
   "execution_count": 3,
   "metadata": {},
   "outputs": [],
   "source": [
    "img_path = '/home/tom/github/niceview/db/data/gt-iz-p9-rep2-wsi-img.tiff'\n",
    "spot_info_path = '/home/tom/github/niceview/db/data/gt-iz-p9-rep2-spot-info.csv'\n",
    "spot_gene_path = '/home/tom/github/niceview/db/data/gt-iz-p9-rep2-spot-gene.npz'\n",
    "spot_gene_name_path = '/home/tom/github/niceview/db/data/gt-iz-p9-rep2-spot-gene-name.txt'\n",
    "selected_spot_gene_name = 'ENSG00000065534'"
   ]
  },
  {
   "cell_type": "code",
   "execution_count": 4,
   "metadata": {},
   "outputs": [],
   "source": [
    "img = cv2.imread(img_path)\n",
    "height, width, _ = img.shape\n",
    "patch_size = (128, 128)\n",
    "factor = 2\n",
    "threshold = 2"
   ]
  },
  {
   "cell_type": "code",
   "execution_count": 5,
   "metadata": {},
   "outputs": [],
   "source": [
    "patch_size  = np.ceil(np.array(patch_size)).astype(int) * factor"
   ]
  },
  {
   "cell_type": "code",
   "execution_count": 6,
   "metadata": {},
   "outputs": [],
   "source": [
    "spot_info = pd.read_csv(spot_info_path)\n",
    "spot_pos = spot_info[['x', 'y']].values\n",
    "spot_diameter = spot_info['diameter'].values\n",
    "\n",
    "spot_gene = load_npz(spot_gene_path)\n",
    "spot_gene_name = txt_to_list(spot_gene_name_path)\n",
    "spot_selected_gene = select_col_from_name(\n",
    "    spot_gene, spot_gene_name, selected_spot_gene_name,\n",
    ")\n",
    "spot_selected_gene_norm = normalize_array(spot_selected_gene, 1, 255)\n",
    "spot_selected_gene_norm = np.array(spot_selected_gene_norm).ravel()"
   ]
  },
  {
   "cell_type": "code",
   "execution_count": 7,
   "metadata": {},
   "outputs": [],
   "source": [
    "spot_pos = spot_pos.astype(int)"
   ]
  },
  {
   "cell_type": "code",
   "execution_count": 8,
   "metadata": {},
   "outputs": [],
   "source": [
    "overlay = np.full((height, width), 0).astype(float)\n",
    "counter = np.full((height, width), 0).astype(np.uint16) \n",
    "for idx in range(len(spot_pos)):\n",
    "    score = spot_selected_gene_norm[idx]\n",
    "    # if score >= threshold:\n",
    "    #     pass\n",
    "    # else:\n",
    "    #     print(f'Low score: {score}')\n",
    "    #     score = 0.0\n",
    "    coord = spot_pos[idx]  # coord in (x, y)\n",
    "    \n",
    "    overlay[coord[1]: coord[1] + patch_size[1], coord[0]: coord[0] + patch_size[0]] += score\n",
    "    counter[coord[1]: coord[1] + patch_size[1], coord[0]: coord[0] + patch_size[0]] += 1"
   ]
  },
  {
   "cell_type": "code",
   "execution_count": 9,
   "metadata": {},
   "outputs": [],
   "source": [
    "zero_mask = counter == 0"
   ]
  },
  {
   "cell_type": "code",
   "execution_count": 10,
   "metadata": {},
   "outputs": [],
   "source": [
    "overlay[~zero_mask] = overlay[~zero_mask] / counter[~zero_mask]"
   ]
  },
  {
   "cell_type": "code",
   "execution_count": 11,
   "metadata": {},
   "outputs": [
    {
     "name": "stdout",
     "output_type": "stream",
     "text": [
      "(257, 257)\n"
     ]
    }
   ],
   "source": [
    "overlap = 0.5\n",
    "kernel = tuple((patch_size * (1 - overlap)).astype(int) * 2 + 1)\n",
    "print(kernel)"
   ]
  },
  {
   "cell_type": "code",
   "execution_count": 12,
   "metadata": {},
   "outputs": [],
   "source": [
    "mask = cv2.GaussianBlur(overlay, kernel, 0) "
   ]
  },
  {
   "cell_type": "code",
   "execution_count": 13,
   "metadata": {},
   "outputs": [
    {
     "data": {
      "text/plain": [
       "array([[0., 0., 0., ..., 0., 0., 0.],\n",
       "       [0., 0., 0., ..., 0., 0., 0.],\n",
       "       [0., 0., 0., ..., 0., 0., 0.],\n",
       "       ...,\n",
       "       [0., 0., 0., ..., 0., 0., 0.],\n",
       "       [0., 0., 0., ..., 0., 0., 0.],\n",
       "       [0., 0., 0., ..., 0., 0., 0.]])"
      ]
     },
     "execution_count": 13,
     "metadata": {},
     "output_type": "execute_result"
    }
   ],
   "source": [
    "mask"
   ]
  },
  {
   "cell_type": "code",
   "execution_count": 14,
   "metadata": {},
   "outputs": [],
   "source": [
    "from niceview.utils.tools import mask_to_image"
   ]
  },
  {
   "cell_type": "code",
   "execution_count": 15,
   "metadata": {},
   "outputs": [],
   "source": [
    "backtorgb = mask_to_image(mask, cmap=cv2.COLORMAP_JET)"
   ]
  },
  {
   "cell_type": "code",
   "execution_count": 16,
   "metadata": {},
   "outputs": [
    {
     "data": {
      "text/plain": [
       "True"
      ]
     },
     "execution_count": 16,
     "metadata": {},
     "output_type": "execute_result"
    }
   ],
   "source": [
    "cv2.imwrite('overlay.png', backtorgb)"
   ]
  },
  {
   "cell_type": "code",
   "execution_count": null,
   "metadata": {},
   "outputs": [],
   "source": []
  }
 ],
 "metadata": {
  "kernelspec": {
   "display_name": "niceview",
   "language": "python",
   "name": "python3"
  },
  "language_info": {
   "codemirror_mode": {
    "name": "ipython",
    "version": 3
   },
   "file_extension": ".py",
   "mimetype": "text/x-python",
   "name": "python",
   "nbconvert_exporter": "python",
   "pygments_lexer": "ipython3",
   "version": "3.9.0"
  },
  "orig_nbformat": 4
 },
 "nbformat": 4,
 "nbformat_minor": 2
}
