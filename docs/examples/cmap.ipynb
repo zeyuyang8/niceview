{
 "cells": [
  {
   "cell_type": "code",
   "execution_count": 4,
   "metadata": {},
   "outputs": [
    {
     "name": "stdout",
     "output_type": "stream",
     "text": [
      "#00007F\n",
      "#000084\n",
      "#000088\n",
      "#00008D\n",
      "#000091\n"
     ]
    }
   ],
   "source": [
    "import matplotlib.pyplot as plt\n",
    "import numpy as np\n",
    "\n",
    "# Define the colormap you want to get the hexadecimal values for\n",
    "colormap_name = 'jet'  # Replace with the name of the colormap you want to use\n",
    "\n",
    "# Create a color map object\n",
    "cmap = plt.get_cmap(colormap_name)\n",
    "\n",
    "# Get the hexadecimal values for the colormap\n",
    "hex_values = []\n",
    "for i in range(cmap.N):\n",
    "    rgba = cmap(i)\n",
    "    hex_color = \"#{:02X}{:02X}{:02X}\".format(int(rgba[0] * 255), int(rgba[1] * 255), int(rgba[2] * 255))\n",
    "    hex_values.append(hex_color)\n",
    "\n",
    "# Print the hexadecimal values\n",
    "for hex_color in hex_values[:5]:\n",
    "    print(hex_color)"
   ]
  },
  {
   "cell_type": "code",
   "execution_count": null,
   "metadata": {},
   "outputs": [],
   "source": []
  }
 ],
 "metadata": {
  "kernelspec": {
   "display_name": "niceview",
   "language": "python",
   "name": "python3"
  },
  "language_info": {
   "codemirror_mode": {
    "name": "ipython",
    "version": 3
   },
   "file_extension": ".py",
   "mimetype": "text/x-python",
   "name": "python",
   "nbconvert_exporter": "python",
   "pygments_lexer": "ipython3",
   "version": "3.9.0"
  },
  "orig_nbformat": 4
 },
 "nbformat": 4,
 "nbformat_minor": 2
}
