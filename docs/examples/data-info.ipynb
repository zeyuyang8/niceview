{
 "cells": [
  {
   "cell_type": "code",
   "execution_count": 1,
   "metadata": {},
   "outputs": [],
   "source": [
    "import json"
   ]
  },
  {
   "cell_type": "code",
   "execution_count": 2,
   "metadata": {},
   "outputs": [],
   "source": [
    "data_extension = {\n",
    "    'cell': 'h5ad',\n",
    "    'cell-gene': 'npz',\n",
    "    'cell-gene-name': 'txt',\n",
    "    'cell-info': 'csv',\n",
    "    'cell-mask': 'npz',\n",
    "    'wsi-img': 'tiff',\n",
    "    'spot': 'h5ad',\n",
    "    'spot-gene': 'npz',\n",
    "    'spot-gene-name': 'txt',\n",
    "    'spot-info': 'csv',\n",
    "}\n",
    "cache_extension = {\n",
    "    'blend-cell-gene-img': 'png',\n",
    "    'blend-cell-type-img': 'png',\n",
    "    'blend-spot-gene-img': 'png',\n",
    "    'mask-cell-gene-img': 'png',\n",
    "    'mask-cell-type-img': 'png',\n",
    "    'mask-cell-match-region': 'npy',\n",
    "    'circle-spot-gene-img': 'png',\n",
    "    'gis-blend-cell-gene-img': 'tiff',\n",
    "    'gis-blend-cell-type-img': 'tiff',\n",
    "    'gis-blend-spot-gene-img': 'tiff',\n",
    "}\n",
    "cell_label_encoder = {\n",
    "    'pericyte': 1,\n",
    "    'neuronal receptor cell': 2,\n",
    "    'native cell': 3,\n",
    "    'smooth muscle myoblast': 4,\n",
    "    'immature innate lymphoid cell': 5,\n",
    "    'cardiac endothelial cell': 6,\n",
    "    'cardiac muscle myoblast': 7,\n",
    "    'fibroblast of cardiac tissue': 8,\n",
    "}\n",
    "cell_label_cmap = {\n",
    "    1: '#d5a567',\n",
    "    2: '#be6ca7',\n",
    "    3: '#91d1e0',\n",
    "    4: '#8bc060',\n",
    "    5: '#879dcf',\n",
    "    6: '#1d8942',\n",
    "    7: '#253166',\n",
    "    8: '#853087',\n",
    "}\n",
    "primary_key_list = ['gt-iz-p9-rep2']"
   ]
  },
  {
   "cell_type": "code",
   "execution_count": 3,
   "metadata": {},
   "outputs": [],
   "source": [
    "data_info = {\n",
    "    'data_extension': data_extension,\n",
    "    'cache_extension': cache_extension,\n",
    "    'cell_label_encoder': cell_label_encoder,\n",
    "    'cell_label_cmap': cell_label_cmap,\n",
    "    'primary_key_list': primary_key_list,\n",
    "}\n",
    "\n",
    "with open('data-info.json', 'w') as json_file:\n",
    "    json.dump(data_info, json_file, indent=4)"
   ]
  },
  {
   "cell_type": "code",
   "execution_count": null,
   "metadata": {},
   "outputs": [],
   "source": []
  }
 ],
 "metadata": {
  "kernelspec": {
   "display_name": "niceview",
   "language": "python",
   "name": "python3"
  },
  "language_info": {
   "codemirror_mode": {
    "name": "ipython",
    "version": 3
   },
   "file_extension": ".py",
   "mimetype": "text/x-python",
   "name": "python",
   "nbconvert_exporter": "python",
   "pygments_lexer": "ipython3",
   "version": "3.9.0"
  },
  "orig_nbformat": 4
 },
 "nbformat": 4,
 "nbformat_minor": 2
}
