{
 "cells": [
  {
   "cell_type": "code",
   "execution_count": 1,
   "metadata": {},
   "outputs": [],
   "source": [
    "\"\"\"Heatmap.\"\"\"\n",
    "\n",
    "import matplotlib.pyplot as plt\n",
    "import cv2"
   ]
  },
  {
   "cell_type": "code",
   "execution_count": 2,
   "metadata": {},
   "outputs": [],
   "source": [
    "def heatmap():\n",
    "    \"\"\"Plot heatmap.\n",
    "\n",
    "    Args:\n",
    "        scores (np.ndarray): 1D array of scores of shape (N,). \n",
    "        coords (np.ndarray): 2D array of coordinates of shape (N, 2).\n",
    "        patch_size (int): predefined size of the patch.\n",
    "    \"\"\"\n",
    "    # image size in (width x, height y)\n",
    "    # patch size\n",
    "    # coordinates of the patch centers\n",
    "    # normalize scores\n",
    "    # heatmap overlay: tracks attention score over each pixel of heatmap\n",
    "    # overlay counter: tracks number of times each pixel is visited\n",
    "    pass"
   ]
  },
  {
   "cell_type": "code",
   "execution_count": null,
   "metadata": {},
   "outputs": [],
   "source": []
  }
 ],
 "metadata": {
  "kernelspec": {
   "display_name": "niceview",
   "language": "python",
   "name": "python3"
  },
  "language_info": {
   "codemirror_mode": {
    "name": "ipython",
    "version": 3
   },
   "file_extension": ".py",
   "mimetype": "text/x-python",
   "name": "python",
   "nbconvert_exporter": "python",
   "pygments_lexer": "ipython3",
   "version": "3.9.0"
  },
  "orig_nbformat": 4
 },
 "nbformat": 4,
 "nbformat_minor": 2
}
