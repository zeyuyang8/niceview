{
 "cells": [
  {
   "cell_type": "code",
   "execution_count": 1,
   "metadata": {},
   "outputs": [],
   "source": [
    "\"\"\"Heatmap.\"\"\"\n",
    "\n",
    "import matplotlib.pyplot as plt\n",
    "from scipy.sparse import load_npz\n",
    "import pandas as pd"
   ]
  },
  {
   "cell_type": "code",
   "execution_count": 2,
   "metadata": {},
   "outputs": [],
   "source": [
    "image_path = '/home/tom/github/niceview/db/data/gt-iz-p9-rep2-wsi-img.tiff'\n",
    "cell_gene_path = '/home/tom/github/niceview/db/data/gt-iz-p9-rep2-cell-gene.npz'\n",
    "cell_info_path = '/home/tom/github/niceview/db/data/gt-iz-p9-rep2-cell-info.csv'"
   ]
  },
  {
   "cell_type": "code",
   "execution_count": 3,
   "metadata": {},
   "outputs": [],
   "source": [
    "cell_centroids = pd.read_csv(cell_info_path)\n",
    "cell_centroids[['x', 'y']].values\n",
    "coords = cell_centroids[['x', 'y']].values\n",
    "color = load_npz(cell_gene_path).tocsc()[:, 0].toarray().flatten()"
   ]
  },
  {
   "cell_type": "code",
   "execution_count": null,
   "metadata": {},
   "outputs": [],
   "source": []
  }
 ],
 "metadata": {
  "kernelspec": {
   "display_name": "niceview",
   "language": "python",
   "name": "python3"
  },
  "language_info": {
   "codemirror_mode": {
    "name": "ipython",
    "version": 3
   },
   "file_extension": ".py",
   "mimetype": "text/x-python",
   "name": "python",
   "nbconvert_exporter": "python",
   "pygments_lexer": "ipython3",
   "version": "3.9.0"
  },
  "orig_nbformat": 4
 },
 "nbformat": 4,
 "nbformat_minor": 2
}
