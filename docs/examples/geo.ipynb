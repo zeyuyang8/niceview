{
 "cells": [
  {
   "cell_type": "code",
   "execution_count": 1,
   "metadata": {},
   "outputs": [],
   "source": [
    "from niceview.utils.raster import geo_ref_raster\n",
    "import tifffile\n",
    "import cv2\n",
    "import openslide"
   ]
  },
  {
   "cell_type": "code",
   "execution_count": 2,
   "metadata": {},
   "outputs": [],
   "source": [
    "_ = geo_ref_raster(\n",
    "    '/home/tom/github/niceview/db/data/gt-iz-p9-rep2-wsi-img.tiff',\n",
    "    'sample-img-geo.tiff',\n",
    ")"
   ]
  },
  {
   "cell_type": "code",
   "execution_count": 15,
   "metadata": {},
   "outputs": [
    {
     "name": "stdout",
     "output_type": "stream",
     "text": [
      "TiffPage 0 @176220450  25233x27452x4  uint8  rgb jpeg\n"
     ]
    }
   ],
   "source": [
    "with tifffile.TiffFile('sample-img.tiff') as bad:\n",
    "    print(bad.pages[0])"
   ]
  },
  {
   "cell_type": "code",
   "execution_count": 11,
   "metadata": {},
   "outputs": [
    {
     "data": {
      "text/plain": [
       "692696316"
      ]
     },
     "execution_count": 11,
     "metadata": {},
     "output_type": "execute_result"
    }
   ],
   "source": [
    "25233 * 27452"
   ]
  },
  {
   "cell_type": "code",
   "execution_count": 4,
   "metadata": {},
   "outputs": [
    {
     "data": {
      "text/plain": [
       "False"
      ]
     },
     "execution_count": 4,
     "metadata": {},
     "output_type": "execute_result"
    }
   ],
   "source": [
    "bad.is_svs"
   ]
  },
  {
   "cell_type": "code",
   "execution_count": 14,
   "metadata": {},
   "outputs": [
    {
     "name": "stdout",
     "output_type": "stream",
     "text": [
      "TiffPage 0 @221562466  9626x9843x4  uint8  rgb lzw horizontal  svs\n"
     ]
    }
   ],
   "source": [
    "with tifffile.TiffFile('/home/tom/github/niceview/db/data/gt-iz-p9-rep2-wsi-img.tiff') as good:\n",
    "    print(good.pages[0])"
   ]
  },
  {
   "cell_type": "code",
   "execution_count": 10,
   "metadata": {},
   "outputs": [
    {
     "ename": "DecompressionBombError",
     "evalue": "Image size (692696316 pixels) exceeds limit of 178956970 pixels, could be decompression bomb DOS attack.",
     "output_type": "error",
     "traceback": [
      "\u001b[0;31m---------------------------------------------------------------------------\u001b[0m",
      "\u001b[0;31mDecompressionBombError\u001b[0m                    Traceback (most recent call last)",
      "\u001b[1;32m/home/tom/github/niceview/docs/examples/geo.ipynb Cell 6\u001b[0m line \u001b[0;36m4\n\u001b[1;32m      <a href='vscode-notebook-cell://wsl%2Bubuntu/home/tom/github/niceview/docs/examples/geo.ipynb#X16sdnNjb2RlLXJlbW90ZQ%3D%3D?line=0'>1</a>\u001b[0m \u001b[39mfrom\u001b[39;00m \u001b[39mPIL\u001b[39;00m \u001b[39mimport\u001b[39;00m Image\n\u001b[1;32m      <a href='vscode-notebook-cell://wsl%2Bubuntu/home/tom/github/niceview/docs/examples/geo.ipynb#X16sdnNjb2RlLXJlbW90ZQ%3D%3D?line=2'>3</a>\u001b[0m \u001b[39m# Open the TIFF file\u001b[39;00m\n\u001b[0;32m----> <a href='vscode-notebook-cell://wsl%2Bubuntu/home/tom/github/niceview/docs/examples/geo.ipynb#X16sdnNjb2RlLXJlbW90ZQ%3D%3D?line=3'>4</a>\u001b[0m \u001b[39mwith\u001b[39;00m Image\u001b[39m.\u001b[39;49mopen(\u001b[39m'\u001b[39;49m\u001b[39msample-img.tiff\u001b[39;49m\u001b[39m'\u001b[39;49m) \u001b[39mas\u001b[39;00m im:\n\u001b[1;32m      <a href='vscode-notebook-cell://wsl%2Bubuntu/home/tom/github/niceview/docs/examples/geo.ipynb#X16sdnNjb2RlLXJlbW90ZQ%3D%3D?line=4'>5</a>\u001b[0m     \u001b[39m# Convert the image to a PNG file\u001b[39;00m\n\u001b[1;32m      <a href='vscode-notebook-cell://wsl%2Bubuntu/home/tom/github/niceview/docs/examples/geo.ipynb#X16sdnNjb2RlLXJlbW90ZQ%3D%3D?line=5'>6</a>\u001b[0m     im\u001b[39m.\u001b[39msave(\u001b[39m'\u001b[39m\u001b[39msample-img.png\u001b[39m\u001b[39m'\u001b[39m)\n",
      "File \u001b[0;32m~/anaconda3/envs/niceview/lib/python3.9/site-packages/PIL/Image.py:3277\u001b[0m, in \u001b[0;36mopen\u001b[0;34m(fp, mode, formats)\u001b[0m\n\u001b[1;32m   3274\u001b[0m             \u001b[39mraise\u001b[39;00m\n\u001b[1;32m   3275\u001b[0m     \u001b[39mreturn\u001b[39;00m \u001b[39mNone\u001b[39;00m\n\u001b[0;32m-> 3277\u001b[0m im \u001b[39m=\u001b[39m _open_core(fp, filename, prefix, formats)\n\u001b[1;32m   3279\u001b[0m \u001b[39mif\u001b[39;00m im \u001b[39mis\u001b[39;00m \u001b[39mNone\u001b[39;00m \u001b[39mand\u001b[39;00m formats \u001b[39mis\u001b[39;00m ID:\n\u001b[1;32m   3280\u001b[0m     checked_formats \u001b[39m=\u001b[39m formats\u001b[39m.\u001b[39mcopy()\n",
      "File \u001b[0;32m~/anaconda3/envs/niceview/lib/python3.9/site-packages/PIL/Image.py:3264\u001b[0m, in \u001b[0;36mopen.<locals>._open_core\u001b[0;34m(fp, filename, prefix, formats)\u001b[0m\n\u001b[1;32m   3262\u001b[0m         fp\u001b[39m.\u001b[39mseek(\u001b[39m0\u001b[39m)\n\u001b[1;32m   3263\u001b[0m         im \u001b[39m=\u001b[39m factory(fp, filename)\n\u001b[0;32m-> 3264\u001b[0m         _decompression_bomb_check(im\u001b[39m.\u001b[39;49msize)\n\u001b[1;32m   3265\u001b[0m         \u001b[39mreturn\u001b[39;00m im\n\u001b[1;32m   3266\u001b[0m \u001b[39mexcept\u001b[39;00m (\u001b[39mSyntaxError\u001b[39;00m, \u001b[39mIndexError\u001b[39;00m, \u001b[39mTypeError\u001b[39;00m, struct\u001b[39m.\u001b[39merror):\n\u001b[1;32m   3267\u001b[0m     \u001b[39m# Leave disabled by default, spams the logs with image\u001b[39;00m\n\u001b[1;32m   3268\u001b[0m     \u001b[39m# opening failures that are entirely expected.\u001b[39;00m\n\u001b[1;32m   3269\u001b[0m     \u001b[39m# logger.debug(\"\", exc_info=True)\u001b[39;00m\n",
      "File \u001b[0;32m~/anaconda3/envs/niceview/lib/python3.9/site-packages/PIL/Image.py:3173\u001b[0m, in \u001b[0;36m_decompression_bomb_check\u001b[0;34m(size)\u001b[0m\n\u001b[1;32m   3168\u001b[0m \u001b[39mif\u001b[39;00m pixels \u001b[39m>\u001b[39m \u001b[39m2\u001b[39m \u001b[39m*\u001b[39m MAX_IMAGE_PIXELS:\n\u001b[1;32m   3169\u001b[0m     msg \u001b[39m=\u001b[39m (\n\u001b[1;32m   3170\u001b[0m         \u001b[39mf\u001b[39m\u001b[39m\"\u001b[39m\u001b[39mImage size (\u001b[39m\u001b[39m{\u001b[39;00mpixels\u001b[39m}\u001b[39;00m\u001b[39m pixels) exceeds limit of \u001b[39m\u001b[39m{\u001b[39;00m\u001b[39m2\u001b[39m\u001b[39m \u001b[39m\u001b[39m*\u001b[39m\u001b[39m \u001b[39mMAX_IMAGE_PIXELS\u001b[39m}\u001b[39;00m\u001b[39m \u001b[39m\u001b[39m\"\u001b[39m\n\u001b[1;32m   3171\u001b[0m         \u001b[39m\"\u001b[39m\u001b[39mpixels, could be decompression bomb DOS attack.\u001b[39m\u001b[39m\"\u001b[39m\n\u001b[1;32m   3172\u001b[0m     )\n\u001b[0;32m-> 3173\u001b[0m     \u001b[39mraise\u001b[39;00m DecompressionBombError(msg)\n\u001b[1;32m   3175\u001b[0m \u001b[39mif\u001b[39;00m pixels \u001b[39m>\u001b[39m MAX_IMAGE_PIXELS:\n\u001b[1;32m   3176\u001b[0m     warnings\u001b[39m.\u001b[39mwarn(\n\u001b[1;32m   3177\u001b[0m         \u001b[39mf\u001b[39m\u001b[39m\"\u001b[39m\u001b[39mImage size (\u001b[39m\u001b[39m{\u001b[39;00mpixels\u001b[39m}\u001b[39;00m\u001b[39m pixels) exceeds limit of \u001b[39m\u001b[39m{\u001b[39;00mMAX_IMAGE_PIXELS\u001b[39m}\u001b[39;00m\u001b[39m pixels, \u001b[39m\u001b[39m\"\u001b[39m\n\u001b[1;32m   3178\u001b[0m         \u001b[39m\"\u001b[39m\u001b[39mcould be decompression bomb DOS attack.\u001b[39m\u001b[39m\"\u001b[39m,\n\u001b[1;32m   3179\u001b[0m         DecompressionBombWarning,\n\u001b[1;32m   3180\u001b[0m     )\n",
      "\u001b[0;31mDecompressionBombError\u001b[0m: Image size (692696316 pixels) exceeds limit of 178956970 pixels, could be decompression bomb DOS attack."
     ]
    }
   ],
   "source": [
    "from PIL import Image\n",
    "\n",
    "# Open the TIFF file\n",
    "with Image.open('sample-img.tiff') as im:\n",
    "    # Convert the image to a PNG file\n",
    "    im.save('sample-img.png')"
   ]
  },
  {
   "cell_type": "code",
   "execution_count": null,
   "metadata": {},
   "outputs": [],
   "source": [
    "94748718\n",
    "692696316"
   ]
  },
  {
   "cell_type": "code",
   "execution_count": 5,
   "metadata": {},
   "outputs": [
    {
     "ename": "OpenSlideUnsupportedFormatError",
     "evalue": "Unsupported or missing image file",
     "output_type": "error",
     "traceback": [
      "\u001b[0;31m---------------------------------------------------------------------------\u001b[0m",
      "\u001b[0;31mOpenSlideUnsupportedFormatError\u001b[0m           Traceback (most recent call last)",
      "\u001b[1;32m/home/tom/github/niceview/docs/examples/geo.ipynb Cell 8\u001b[0m line \u001b[0;36m1\n\u001b[0;32m----> <a href='vscode-notebook-cell://wsl%2Bubuntu/home/tom/github/niceview/docs/examples/geo.ipynb#X21sdnNjb2RlLXJlbW90ZQ%3D%3D?line=0'>1</a>\u001b[0m slide \u001b[39m=\u001b[39m openslide\u001b[39m.\u001b[39;49mOpenSlide(\u001b[39m'\u001b[39;49m\u001b[39m/home/tom/github/niceview/db/data/gt-iz-p9-rep2-wsi-img.tiff\u001b[39;49m\u001b[39m'\u001b[39;49m)\n",
      "File \u001b[0;32m~/anaconda3/envs/niceview/lib/python3.9/site-packages/openslide/__init__.py:179\u001b[0m, in \u001b[0;36mOpenSlide.__init__\u001b[0;34m(self, filename)\u001b[0m\n\u001b[1;32m    177\u001b[0m AbstractSlide\u001b[39m.\u001b[39m\u001b[39m__init__\u001b[39m(\u001b[39mself\u001b[39m)\n\u001b[1;32m    178\u001b[0m \u001b[39mself\u001b[39m\u001b[39m.\u001b[39m_filename \u001b[39m=\u001b[39m filename\n\u001b[0;32m--> 179\u001b[0m \u001b[39mself\u001b[39m\u001b[39m.\u001b[39m_osr \u001b[39m=\u001b[39m lowlevel\u001b[39m.\u001b[39;49mopen(\u001b[39mstr\u001b[39;49m(filename))\n\u001b[1;32m    180\u001b[0m \u001b[39mif\u001b[39;00m lowlevel\u001b[39m.\u001b[39mread_icc_profile\u001b[39m.\u001b[39mavailable:\n\u001b[1;32m    181\u001b[0m     \u001b[39mself\u001b[39m\u001b[39m.\u001b[39m_profile \u001b[39m=\u001b[39m lowlevel\u001b[39m.\u001b[39mread_icc_profile(\u001b[39mself\u001b[39m\u001b[39m.\u001b[39m_osr)\n",
      "File \u001b[0;32m~/anaconda3/envs/niceview/lib/python3.9/site-packages/openslide/lowlevel.py:203\u001b[0m, in \u001b[0;36m_check_open\u001b[0;34m(result, _func, _args)\u001b[0m\n\u001b[1;32m    201\u001b[0m \u001b[39mdef\u001b[39;00m \u001b[39m_check_open\u001b[39m(result, _func, _args):\n\u001b[1;32m    202\u001b[0m     \u001b[39mif\u001b[39;00m result \u001b[39mis\u001b[39;00m \u001b[39mNone\u001b[39;00m:\n\u001b[0;32m--> 203\u001b[0m         \u001b[39mraise\u001b[39;00m OpenSlideUnsupportedFormatError(\u001b[39m\"\u001b[39m\u001b[39mUnsupported or missing image file\u001b[39m\u001b[39m\"\u001b[39m)\n\u001b[1;32m    204\u001b[0m     slide \u001b[39m=\u001b[39m _OpenSlide(c_void_p(result))\n\u001b[1;32m    205\u001b[0m     err \u001b[39m=\u001b[39m get_error(slide)\n",
      "\u001b[0;31mOpenSlideUnsupportedFormatError\u001b[0m: Unsupported or missing image file"
     ]
    }
   ],
   "source": [
    "slide = openslide.OpenSlide('/home/tom/github/niceview/db/data/gt-iz-p9-rep2-wsi-img.tiff')"
   ]
  },
  {
   "cell_type": "code",
   "execution_count": null,
   "metadata": {},
   "outputs": [],
   "source": []
  }
 ],
 "metadata": {
  "kernelspec": {
   "display_name": "niceview",
   "language": "python",
   "name": "python3"
  },
  "language_info": {
   "codemirror_mode": {
    "name": "ipython",
    "version": 3
   },
   "file_extension": ".py",
   "mimetype": "text/x-python",
   "name": "python",
   "nbconvert_exporter": "python",
   "pygments_lexer": "ipython3",
   "version": "3.9.0"
  },
  "orig_nbformat": 4
 },
 "nbformat": 4,
 "nbformat_minor": 2
}
