{
 "cells": [
  {
   "cell_type": "code",
   "execution_count": 1,
   "metadata": {},
   "outputs": [],
   "source": [
    "\"\"\"Heatmap.\"\"\"\n",
    "\n",
    "import matplotlib.pyplot as plt\n",
    "import pandas as pd\n",
    "import numpy as np\n",
    "import cv2\n",
    "from scipy.sparse import load_npz\n",
    "from niceview.utils.tools import txt_to_list, select_col_from_name, normalize_array\n",
    "from niceview.utils.tools import mask_to_image, blend"
   ]
  },
  {
   "cell_type": "code",
   "execution_count": 2,
   "metadata": {},
   "outputs": [],
   "source": [
    "def heatmap():\n",
    "    \"\"\"Plot heatmap.\n",
    "\n",
    "    Args:\n",
    "        scores (np.ndarray): 1D array of scores of shape (N,). \n",
    "        coords (np.ndarray): 2D array of coordinates of shape (N, 2).\n",
    "        patch_size (int): predefined size of the patch.\n",
    "    \"\"\"\n",
    "    # image size in (width x, height y)\n",
    "    # patch size\n",
    "    # coordinates of the patch centers\n",
    "    # normalize scores\n",
    "    # heatmap overlay: tracks attention score over each pixel of heatmap\n",
    "    # overlay counter: tracks number of times each pixel is visited\n",
    "    # average heatmap: heatmap overlay / overlay counter (only for non-zero counter)\n",
    "    # blur heatmap\n",
    "    pass"
   ]
  },
  {
   "cell_type": "code",
   "execution_count": 3,
   "metadata": {},
   "outputs": [],
   "source": [
    "img_path = '/home/tom/github/niceview/db/data/gt-iz-p9-rep2-wsi-img.tiff'\n",
    "cell_info_path = '/home/tom/github/niceview/db/data/gt-iz-p9-rep2-cell-info.csv'\n",
    "cell_gene_path = '/home/tom/github/niceview/db/data/gt-iz-p9-rep2-cell-gene.npz'\n",
    "cell_gene_name_path = '/home/tom/github/niceview/db/data/gt-iz-p9-rep2-cell-gene-name.txt'\n",
    "selected_cell_gene_name = 'ENSG00000065534'"
   ]
  },
  {
   "cell_type": "code",
   "execution_count": 4,
   "metadata": {},
   "outputs": [],
   "source": [
    "img = cv2.imread(img_path)\n",
    "height, width, _ = img.shape\n",
    "base_size = (64, 64)\n",
    "factor = 1\n",
    "patch_size  = np.ceil(np.array(base_size)).astype(int) * factor"
   ]
  },
  {
   "cell_type": "code",
   "execution_count": 5,
   "metadata": {},
   "outputs": [],
   "source": [
    "cell_info = pd.read_csv(cell_info_path)\n",
    "cell_pos = cell_info[['x', 'y']].values\n",
    "cell_gene = load_npz(cell_gene_path)\n",
    "cell_gene_name = txt_to_list(cell_gene_name_path)\n",
    "cell_selected_gene = select_col_from_name(\n",
    "    cell_gene, cell_gene_name, selected_cell_gene_name,\n",
    ")\n",
    "cell_selected_gene_norm = normalize_array(cell_selected_gene, 1, 255)"
   ]
  },
  {
   "cell_type": "code",
   "execution_count": 6,
   "metadata": {},
   "outputs": [],
   "source": [
    "cell_pos = cell_pos.astype(int)"
   ]
  },
  {
   "cell_type": "code",
   "execution_count": 7,
   "metadata": {},
   "outputs": [],
   "source": [
    "overlay = np.full((height, width), 0).astype(float)\n",
    "counter = np.full((height, width), 0).astype(np.uint16) \n",
    "for idx in range(len(cell_pos)):\n",
    "    score = cell_selected_gene_norm[idx]\n",
    "    coord = cell_pos[idx]  # coord in (x, y)\n",
    "    \n",
    "    overlay[coord[1]: coord[1] + patch_size[1], coord[0]: coord[0] + patch_size[0]] += score\n",
    "    counter[coord[1]: coord[1] + patch_size[1], coord[0]: coord[0] + patch_size[0]] += 1"
   ]
  },
  {
   "cell_type": "code",
   "execution_count": 8,
   "metadata": {},
   "outputs": [],
   "source": [
    "zero_mask = counter == 0"
   ]
  },
  {
   "cell_type": "code",
   "execution_count": 9,
   "metadata": {},
   "outputs": [],
   "source": [
    "overlay[~zero_mask] = overlay[~zero_mask] / counter[~zero_mask]"
   ]
  },
  {
   "cell_type": "code",
   "execution_count": 10,
   "metadata": {},
   "outputs": [
    {
     "name": "stdout",
     "output_type": "stream",
     "text": [
      "(193, 193)\n"
     ]
    }
   ],
   "source": [
    "overlap = -0.5\n",
    "kernel = tuple((patch_size * (1 - overlap)).astype(int) * 2 + 1)\n",
    "print(kernel)"
   ]
  },
  {
   "cell_type": "code",
   "execution_count": 11,
   "metadata": {},
   "outputs": [],
   "source": [
    "img = mask_to_image(overlay, cmap=cv2.COLORMAP_JET)"
   ]
  },
  {
   "cell_type": "code",
   "execution_count": 12,
   "metadata": {},
   "outputs": [
    {
     "data": {
      "text/plain": [
       "True"
      ]
     },
     "execution_count": 12,
     "metadata": {},
     "output_type": "execute_result"
    }
   ],
   "source": [
    "cv2.imwrite('gray.png', overlay)\n",
    "cv2.imwrite('rgb.png', img)"
   ]
  },
  {
   "cell_type": "code",
   "execution_count": 13,
   "metadata": {},
   "outputs": [],
   "source": [
    "blur = cv2.GaussianBlur(\n",
    "    img, kernel, 0,\n",
    ")"
   ]
  },
  {
   "cell_type": "code",
   "execution_count": 14,
   "metadata": {},
   "outputs": [
    {
     "data": {
      "text/plain": [
       "True"
      ]
     },
     "execution_count": 14,
     "metadata": {},
     "output_type": "execute_result"
    }
   ],
   "source": [
    "cv2.imwrite('blur.png', blur)"
   ]
  },
  {
   "cell_type": "code",
   "execution_count": 15,
   "metadata": {},
   "outputs": [
    {
     "data": {
      "text/plain": [
       "True"
      ]
     },
     "execution_count": 15,
     "metadata": {},
     "output_type": "execute_result"
    }
   ],
   "source": [
    "cv2.imwrite('blend.png', blend(img_path, 'blur.png', 0.5))"
   ]
  },
  {
   "cell_type": "code",
   "execution_count": null,
   "metadata": {},
   "outputs": [],
   "source": [
    "# TODO: segmentation mask"
   ]
  }
 ],
 "metadata": {
  "kernelspec": {
   "display_name": "niceview",
   "language": "python",
   "name": "python3"
  },
  "language_info": {
   "codemirror_mode": {
    "name": "ipython",
    "version": 3
   },
   "file_extension": ".py",
   "mimetype": "text/x-python",
   "name": "python",
   "nbconvert_exporter": "python",
   "pygments_lexer": "ipython3",
   "version": "3.9.0"
  },
  "orig_nbformat": 4
 },
 "nbformat": 4,
 "nbformat_minor": 2
}
