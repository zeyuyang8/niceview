{
 "cells": [
  {
   "cell_type": "code",
   "execution_count": 29,
   "metadata": {},
   "outputs": [],
   "source": [
    "\"\"\"Drag roi and save data.\"\"\"\n",
    "\n",
    "import cv2\n",
    "import os\n",
    "import scanpy as sc\n",
    "import json\n",
    "from shapely.geometry import Point, Polygon"
   ]
  },
  {
   "cell_type": "code",
   "execution_count": 43,
   "metadata": {},
   "outputs": [],
   "source": [
    "cell = sc.read_h5ad('/home/tom/github/niceview/db/data/gt-iz-p9-rep2-cell.h5ad')\n",
    "with open('/home/tom/github/niceview/user/test.json', 'r') as f:\n",
    "    coords = json.load(f)\n",
    "img_path = '/home/tom/github/niceview/db/data/gt-iz-p9-rep2-wsi-img.tiff'"
   ]
  },
  {
   "cell_type": "code",
   "execution_count": null,
   "metadata": {},
   "outputs": [],
   "source": [
    "def get_bounding_box(coords):\n",
    "    x_coords, y_coords = zip(*coords)\n",
    "    x1, y1 = min(x_coords), min(y_coords)\n",
    "    x2, y2 = max(x_coords), max(y_coords)\n",
    "    return x1, y1, x2, y2"
   ]
  },
  {
   "cell_type": "code",
   "execution_count": 52,
   "metadata": {},
   "outputs": [],
   "source": [
    "def get_roi(coords, adata, img, home_dir):\n",
    "    \"\"\"Get roi from coordinates.\"\"\"\n",
    "    for idx, coord in enumerate(coords):\n",
    "        # save adata\n",
    "        roi = Polygon(coord)\n",
    "        locs = list(map(lambda x: roi.contains(Point(x)), adata.obsm['spatial']))\n",
    "        to_keep = adata[locs].copy()\n",
    "        h5ad_path = os.path.join(home_dir, f'roi-{idx}.h5ad')\n",
    "        to_keep.write_h5ad(h5ad_path)\n",
    "        \n",
    "        # save image\n",
    "        x1, y1, x2, y2 = get_bounding_box(coord)\n",
    "        cropped_region = img[y1:y2, x1:x2]\n",
    "        cv2.imwrite(os.path.join(home_dir, f'roi-{idx}.tiff'), cropped_region)"
   ]
  },
  {
   "cell_type": "code",
   "execution_count": 53,
   "metadata": {},
   "outputs": [
    {
     "ename": "",
     "evalue": "",
     "output_type": "error",
     "traceback": [
      "\u001b[1;31mThe Kernel crashed while executing code in the the current cell or a previous cell. Please review the code in the cell(s) to identify a possible cause of the failure. Click <a href='https://aka.ms/vscodeJupyterKernelCrash'>here</a> for more info. View Jupyter <a href='command:jupyter.viewOutput'>log</a> for further details."
     ]
    }
   ],
   "source": [
    "get_roi(coords, cell, img_path, '/home/tom/github/niceview/user')"
   ]
  },
  {
   "cell_type": "code",
   "execution_count": null,
   "metadata": {},
   "outputs": [],
   "source": []
  }
 ],
 "metadata": {
  "kernelspec": {
   "display_name": "niceview",
   "language": "python",
   "name": "python3"
  },
  "language_info": {
   "codemirror_mode": {
    "name": "ipython",
    "version": 3
   },
   "file_extension": ".py",
   "mimetype": "text/x-python",
   "name": "python",
   "nbconvert_exporter": "python",
   "pygments_lexer": "ipython3",
   "version": "3.9.0"
  },
  "orig_nbformat": 4
 },
 "nbformat": 4,
 "nbformat_minor": 2
}
